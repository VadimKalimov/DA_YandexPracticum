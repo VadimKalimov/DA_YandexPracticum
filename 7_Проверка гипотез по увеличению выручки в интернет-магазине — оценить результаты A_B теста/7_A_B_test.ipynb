{
 "cells": [
  {
   "cell_type": "markdown",
   "metadata": {},
   "source": [
    "# A/B Тест"
   ]
  },
  {
   "cell_type": "markdown",
   "metadata": {},
   "source": [
    "**Цель проекта: Необходтимо совместно с отделом маркетинга подготовить список гипотез для увеличения выручки.**"
   ]
  },
  {
   "cell_type": "markdown",
   "metadata": {},
   "source": [
    "### Импортируем библиотеки"
   ]
  },
  {
   "cell_type": "code",
   "execution_count": 1,
   "metadata": {},
   "outputs": [],
   "source": [
    "import pandas as pd\n",
    "import datetime as dt\n",
    "import scipy.stats as stats\n",
    "import numpy as np\n",
    "import matplotlib.pyplot as plt\n",
    "from pandas.plotting import register_matplotlib_converters\n",
    "import seaborn as sns\n",
    "from datetime import datetime, timedelta\n",
    "import warnings"
   ]
  },
  {
   "cell_type": "markdown",
   "metadata": {},
   "source": [
    "### Загрузим данные и подготовим их к анализу"
   ]
  },
  {
   "cell_type": "code",
   "execution_count": 2,
   "metadata": {},
   "outputs": [],
   "source": [
    "visitors, orders, hypothesis = (\n",
    "        pd.read_csv('D:/DA/projects/visitors.csv'),  \n",
    "        pd.read_csv('D:/DA/projects/orders.csv'),  \n",
    "        pd.read_csv('D:/DA/projects/hypothesis.csv')\n",
    "    )"
   ]
  },
  {
   "cell_type": "markdown",
   "metadata": {},
   "source": [
    "#### Изучим visitors"
   ]
  },
  {
   "cell_type": "code",
   "execution_count": 3,
   "metadata": {},
   "outputs": [
    {
     "name": "stdout",
     "output_type": "stream",
     "text": [
      "<class 'pandas.core.frame.DataFrame'>\n",
      "RangeIndex: 62 entries, 0 to 61\n",
      "Data columns (total 3 columns):\n",
      " #   Column    Non-Null Count  Dtype \n",
      "---  ------    --------------  ----- \n",
      " 0   date      62 non-null     object\n",
      " 1   group     62 non-null     object\n",
      " 2   visitors  62 non-null     int64 \n",
      "dtypes: int64(1), object(2)\n",
      "memory usage: 1.6+ KB\n"
     ]
    },
    {
     "data": {
      "text/html": [
       "<div>\n",
       "<style scoped>\n",
       "    .dataframe tbody tr th:only-of-type {\n",
       "        vertical-align: middle;\n",
       "    }\n",
       "\n",
       "    .dataframe tbody tr th {\n",
       "        vertical-align: top;\n",
       "    }\n",
       "\n",
       "    .dataframe thead th {\n",
       "        text-align: right;\n",
       "    }\n",
       "</style>\n",
       "<table border=\"1\" class=\"dataframe\">\n",
       "  <thead>\n",
       "    <tr style=\"text-align: right;\">\n",
       "      <th></th>\n",
       "      <th>date</th>\n",
       "      <th>group</th>\n",
       "      <th>visitors</th>\n",
       "    </tr>\n",
       "  </thead>\n",
       "  <tbody>\n",
       "    <tr>\n",
       "      <th>0</th>\n",
       "      <td>2019-08-01</td>\n",
       "      <td>A</td>\n",
       "      <td>719</td>\n",
       "    </tr>\n",
       "    <tr>\n",
       "      <th>1</th>\n",
       "      <td>2019-08-02</td>\n",
       "      <td>A</td>\n",
       "      <td>619</td>\n",
       "    </tr>\n",
       "    <tr>\n",
       "      <th>2</th>\n",
       "      <td>2019-08-03</td>\n",
       "      <td>A</td>\n",
       "      <td>507</td>\n",
       "    </tr>\n",
       "    <tr>\n",
       "      <th>3</th>\n",
       "      <td>2019-08-04</td>\n",
       "      <td>A</td>\n",
       "      <td>717</td>\n",
       "    </tr>\n",
       "    <tr>\n",
       "      <th>4</th>\n",
       "      <td>2019-08-05</td>\n",
       "      <td>A</td>\n",
       "      <td>756</td>\n",
       "    </tr>\n",
       "    <tr>\n",
       "      <th>5</th>\n",
       "      <td>2019-08-06</td>\n",
       "      <td>A</td>\n",
       "      <td>667</td>\n",
       "    </tr>\n",
       "    <tr>\n",
       "      <th>6</th>\n",
       "      <td>2019-08-07</td>\n",
       "      <td>A</td>\n",
       "      <td>644</td>\n",
       "    </tr>\n",
       "    <tr>\n",
       "      <th>7</th>\n",
       "      <td>2019-08-08</td>\n",
       "      <td>A</td>\n",
       "      <td>610</td>\n",
       "    </tr>\n",
       "    <tr>\n",
       "      <th>8</th>\n",
       "      <td>2019-08-09</td>\n",
       "      <td>A</td>\n",
       "      <td>617</td>\n",
       "    </tr>\n",
       "    <tr>\n",
       "      <th>9</th>\n",
       "      <td>2019-08-10</td>\n",
       "      <td>A</td>\n",
       "      <td>406</td>\n",
       "    </tr>\n",
       "  </tbody>\n",
       "</table>\n",
       "</div>"
      ],
      "text/plain": [
       "         date group  visitors\n",
       "0  2019-08-01     A       719\n",
       "1  2019-08-02     A       619\n",
       "2  2019-08-03     A       507\n",
       "3  2019-08-04     A       717\n",
       "4  2019-08-05     A       756\n",
       "5  2019-08-06     A       667\n",
       "6  2019-08-07     A       644\n",
       "7  2019-08-08     A       610\n",
       "8  2019-08-09     A       617\n",
       "9  2019-08-10     A       406"
      ]
     },
     "metadata": {},
     "output_type": "display_data"
    },
    {
     "data": {
      "text/plain": [
       "None"
      ]
     },
     "metadata": {},
     "output_type": "display_data"
    }
   ],
   "source": [
    "display(\n",
    "    visitors.head(10),\n",
    "    visitors.info()    \n",
    ")"
   ]
  },
  {
   "cell_type": "markdown",
   "metadata": {},
   "source": [
    "Описание данных visitor:\n",
    "- date — дата;\n",
    "- group — группа A/B-теста;\n",
    "- visitors — количество пользователей в указанную дату в указанной группе A/B-теста."
   ]
  },
  {
   "cell_type": "markdown",
   "metadata": {},
   "source": [
    "#### Изучим orders"
   ]
  },
  {
   "cell_type": "code",
   "execution_count": 4,
   "metadata": {},
   "outputs": [
    {
     "name": "stdout",
     "output_type": "stream",
     "text": [
      "<class 'pandas.core.frame.DataFrame'>\n",
      "RangeIndex: 1197 entries, 0 to 1196\n",
      "Data columns (total 5 columns):\n",
      " #   Column         Non-Null Count  Dtype \n",
      "---  ------         --------------  ----- \n",
      " 0   transactionId  1197 non-null   int64 \n",
      " 1   visitorId      1197 non-null   int64 \n",
      " 2   date           1197 non-null   object\n",
      " 3   revenue        1197 non-null   int64 \n",
      " 4   group          1197 non-null   object\n",
      "dtypes: int64(3), object(2)\n",
      "memory usage: 46.9+ KB\n"
     ]
    },
    {
     "data": {
      "text/html": [
       "<div>\n",
       "<style scoped>\n",
       "    .dataframe tbody tr th:only-of-type {\n",
       "        vertical-align: middle;\n",
       "    }\n",
       "\n",
       "    .dataframe tbody tr th {\n",
       "        vertical-align: top;\n",
       "    }\n",
       "\n",
       "    .dataframe thead th {\n",
       "        text-align: right;\n",
       "    }\n",
       "</style>\n",
       "<table border=\"1\" class=\"dataframe\">\n",
       "  <thead>\n",
       "    <tr style=\"text-align: right;\">\n",
       "      <th></th>\n",
       "      <th>transactionId</th>\n",
       "      <th>visitorId</th>\n",
       "      <th>date</th>\n",
       "      <th>revenue</th>\n",
       "      <th>group</th>\n",
       "    </tr>\n",
       "  </thead>\n",
       "  <tbody>\n",
       "    <tr>\n",
       "      <th>0</th>\n",
       "      <td>3667963787</td>\n",
       "      <td>3312258926</td>\n",
       "      <td>2019-08-15</td>\n",
       "      <td>1650</td>\n",
       "      <td>B</td>\n",
       "    </tr>\n",
       "    <tr>\n",
       "      <th>1</th>\n",
       "      <td>2804400009</td>\n",
       "      <td>3642806036</td>\n",
       "      <td>2019-08-15</td>\n",
       "      <td>730</td>\n",
       "      <td>B</td>\n",
       "    </tr>\n",
       "    <tr>\n",
       "      <th>2</th>\n",
       "      <td>2961555356</td>\n",
       "      <td>4069496402</td>\n",
       "      <td>2019-08-15</td>\n",
       "      <td>400</td>\n",
       "      <td>A</td>\n",
       "    </tr>\n",
       "    <tr>\n",
       "      <th>3</th>\n",
       "      <td>3797467345</td>\n",
       "      <td>1196621759</td>\n",
       "      <td>2019-08-15</td>\n",
       "      <td>9759</td>\n",
       "      <td>B</td>\n",
       "    </tr>\n",
       "    <tr>\n",
       "      <th>4</th>\n",
       "      <td>2282983706</td>\n",
       "      <td>2322279887</td>\n",
       "      <td>2019-08-15</td>\n",
       "      <td>2308</td>\n",
       "      <td>B</td>\n",
       "    </tr>\n",
       "    <tr>\n",
       "      <th>5</th>\n",
       "      <td>182168103</td>\n",
       "      <td>935554773</td>\n",
       "      <td>2019-08-15</td>\n",
       "      <td>2210</td>\n",
       "      <td>B</td>\n",
       "    </tr>\n",
       "    <tr>\n",
       "      <th>6</th>\n",
       "      <td>398296753</td>\n",
       "      <td>2900797465</td>\n",
       "      <td>2019-08-15</td>\n",
       "      <td>1860</td>\n",
       "      <td>B</td>\n",
       "    </tr>\n",
       "    <tr>\n",
       "      <th>7</th>\n",
       "      <td>2626614568</td>\n",
       "      <td>78758296</td>\n",
       "      <td>2019-08-15</td>\n",
       "      <td>1044</td>\n",
       "      <td>A</td>\n",
       "    </tr>\n",
       "    <tr>\n",
       "      <th>8</th>\n",
       "      <td>1576988021</td>\n",
       "      <td>295230930</td>\n",
       "      <td>2019-08-15</td>\n",
       "      <td>13710</td>\n",
       "      <td>A</td>\n",
       "    </tr>\n",
       "    <tr>\n",
       "      <th>9</th>\n",
       "      <td>1506739906</td>\n",
       "      <td>1882260405</td>\n",
       "      <td>2019-08-15</td>\n",
       "      <td>1855</td>\n",
       "      <td>B</td>\n",
       "    </tr>\n",
       "  </tbody>\n",
       "</table>\n",
       "</div>"
      ],
      "text/plain": [
       "   transactionId   visitorId        date  revenue group\n",
       "0     3667963787  3312258926  2019-08-15     1650     B\n",
       "1     2804400009  3642806036  2019-08-15      730     B\n",
       "2     2961555356  4069496402  2019-08-15      400     A\n",
       "3     3797467345  1196621759  2019-08-15     9759     B\n",
       "4     2282983706  2322279887  2019-08-15     2308     B\n",
       "5      182168103   935554773  2019-08-15     2210     B\n",
       "6      398296753  2900797465  2019-08-15     1860     B\n",
       "7     2626614568    78758296  2019-08-15     1044     A\n",
       "8     1576988021   295230930  2019-08-15    13710     A\n",
       "9     1506739906  1882260405  2019-08-15     1855     B"
      ]
     },
     "metadata": {},
     "output_type": "display_data"
    },
    {
     "data": {
      "text/plain": [
       "None"
      ]
     },
     "metadata": {},
     "output_type": "display_data"
    }
   ],
   "source": [
    "display(\n",
    "    orders.head(10),\n",
    "    orders.info()\n",
    ")"
   ]
  },
  {
   "cell_type": "markdown",
   "metadata": {},
   "source": [
    "Описание данных orders:\n",
    "- transactionId — идентификатор заказа;\n",
    "- visitorId — идентификатор пользователя, совершившего заказ;\n",
    "- date — дата, когда был совершён заказ;\n",
    "- revenue — выручка заказа;\n",
    "- group — группа A/B-теста, в которую попал заказ."
   ]
  },
  {
   "cell_type": "markdown",
   "metadata": {},
   "source": [
    "#### Изучим hypothesis"
   ]
  },
  {
   "cell_type": "code",
   "execution_count": 5,
   "metadata": {},
   "outputs": [
    {
     "name": "stdout",
     "output_type": "stream",
     "text": [
      "<class 'pandas.core.frame.DataFrame'>\n",
      "RangeIndex: 9 entries, 0 to 8\n",
      "Data columns (total 5 columns):\n",
      " #   Column      Non-Null Count  Dtype \n",
      "---  ------      --------------  ----- \n",
      " 0   Hypothesis  9 non-null      object\n",
      " 1   Reach       9 non-null      int64 \n",
      " 2   Impact      9 non-null      int64 \n",
      " 3   Confidence  9 non-null      int64 \n",
      " 4   Efforts     9 non-null      int64 \n",
      "dtypes: int64(4), object(1)\n",
      "memory usage: 488.0+ bytes\n"
     ]
    },
    {
     "data": {
      "text/html": [
       "<div>\n",
       "<style scoped>\n",
       "    .dataframe tbody tr th:only-of-type {\n",
       "        vertical-align: middle;\n",
       "    }\n",
       "\n",
       "    .dataframe tbody tr th {\n",
       "        vertical-align: top;\n",
       "    }\n",
       "\n",
       "    .dataframe thead th {\n",
       "        text-align: right;\n",
       "    }\n",
       "</style>\n",
       "<table border=\"1\" class=\"dataframe\">\n",
       "  <thead>\n",
       "    <tr style=\"text-align: right;\">\n",
       "      <th></th>\n",
       "      <th>Hypothesis</th>\n",
       "      <th>Reach</th>\n",
       "      <th>Impact</th>\n",
       "      <th>Confidence</th>\n",
       "      <th>Efforts</th>\n",
       "    </tr>\n",
       "  </thead>\n",
       "  <tbody>\n",
       "    <tr>\n",
       "      <th>0</th>\n",
       "      <td>Добавить два новых канала привлечения трафика, что позволит привлекать на 30% больше пользователей</td>\n",
       "      <td>3</td>\n",
       "      <td>10</td>\n",
       "      <td>8</td>\n",
       "      <td>6</td>\n",
       "    </tr>\n",
       "    <tr>\n",
       "      <th>1</th>\n",
       "      <td>Запустить собственную службу доставки, что сократит срок доставки заказов</td>\n",
       "      <td>2</td>\n",
       "      <td>5</td>\n",
       "      <td>4</td>\n",
       "      <td>10</td>\n",
       "    </tr>\n",
       "    <tr>\n",
       "      <th>2</th>\n",
       "      <td>Добавить блоки рекомендаций товаров на сайт интернет магазина, чтобы повысить конверсию и средний чек заказа</td>\n",
       "      <td>8</td>\n",
       "      <td>3</td>\n",
       "      <td>7</td>\n",
       "      <td>3</td>\n",
       "    </tr>\n",
       "    <tr>\n",
       "      <th>3</th>\n",
       "      <td>Изменить структура категорий, что увеличит конверсию, т.к. пользователи быстрее найдут нужный товар</td>\n",
       "      <td>8</td>\n",
       "      <td>3</td>\n",
       "      <td>3</td>\n",
       "      <td>8</td>\n",
       "    </tr>\n",
       "    <tr>\n",
       "      <th>4</th>\n",
       "      <td>Изменить цвет фона главной страницы, чтобы увеличить вовлеченность пользователей</td>\n",
       "      <td>3</td>\n",
       "      <td>1</td>\n",
       "      <td>1</td>\n",
       "      <td>1</td>\n",
       "    </tr>\n",
       "    <tr>\n",
       "      <th>5</th>\n",
       "      <td>Добавить страницу отзывов клиентов о магазине, что позволит увеличить количество заказов</td>\n",
       "      <td>3</td>\n",
       "      <td>2</td>\n",
       "      <td>2</td>\n",
       "      <td>3</td>\n",
       "    </tr>\n",
       "    <tr>\n",
       "      <th>6</th>\n",
       "      <td>Показать на главной странице баннеры с актуальными акциями и распродажами, чтобы увеличить конверсию</td>\n",
       "      <td>5</td>\n",
       "      <td>3</td>\n",
       "      <td>8</td>\n",
       "      <td>3</td>\n",
       "    </tr>\n",
       "    <tr>\n",
       "      <th>7</th>\n",
       "      <td>Добавить форму подписки на все основные страницы, чтобы собрать базу клиентов для email-рассылок</td>\n",
       "      <td>10</td>\n",
       "      <td>7</td>\n",
       "      <td>8</td>\n",
       "      <td>5</td>\n",
       "    </tr>\n",
       "    <tr>\n",
       "      <th>8</th>\n",
       "      <td>Запустить акцию, дающую скидку на товар в день рождения</td>\n",
       "      <td>1</td>\n",
       "      <td>9</td>\n",
       "      <td>9</td>\n",
       "      <td>5</td>\n",
       "    </tr>\n",
       "  </tbody>\n",
       "</table>\n",
       "</div>"
      ],
      "text/plain": [
       "                                                                                                     Hypothesis  \\\n",
       "0            Добавить два новых канала привлечения трафика, что позволит привлекать на 30% больше пользователей   \n",
       "1                                     Запустить собственную службу доставки, что сократит срок доставки заказов   \n",
       "2  Добавить блоки рекомендаций товаров на сайт интернет магазина, чтобы повысить конверсию и средний чек заказа   \n",
       "3           Изменить структура категорий, что увеличит конверсию, т.к. пользователи быстрее найдут нужный товар   \n",
       "4                              Изменить цвет фона главной страницы, чтобы увеличить вовлеченность пользователей   \n",
       "5                      Добавить страницу отзывов клиентов о магазине, что позволит увеличить количество заказов   \n",
       "6          Показать на главной странице баннеры с актуальными акциями и распродажами, чтобы увеличить конверсию   \n",
       "7              Добавить форму подписки на все основные страницы, чтобы собрать базу клиентов для email-рассылок   \n",
       "8                                                       Запустить акцию, дающую скидку на товар в день рождения   \n",
       "\n",
       "   Reach  Impact  Confidence  Efforts  \n",
       "0      3      10           8        6  \n",
       "1      2       5           4       10  \n",
       "2      8       3           7        3  \n",
       "3      8       3           3        8  \n",
       "4      3       1           1        1  \n",
       "5      3       2           2        3  \n",
       "6      5       3           8        3  \n",
       "7     10       7           8        5  \n",
       "8      1       9           9        5  "
      ]
     },
     "metadata": {},
     "output_type": "display_data"
    },
    {
     "data": {
      "text/plain": [
       "None"
      ]
     },
     "metadata": {},
     "output_type": "display_data"
    }
   ],
   "source": [
    "pd.set_option(\"max_colwidth\", 999)\n",
    "display(\n",
    "    hypothesis.head(10),\n",
    "    hypothesis.info()\n",
    ")"
   ]
  },
  {
   "cell_type": "markdown",
   "metadata": {},
   "source": [
    "Описание данных orders:\n",
    "- Hypothesis — краткое описание гипотезы;\n",
    "- Reach — охват пользователей по 10-балльной шкале;\n",
    "- Impact — влияние на пользователей по 10-балльной шкале;\n",
    "- Confidence — уверенность в гипотезе по 10-балльной шкале;\n",
    "- Efforts — затраты ресурсов на проверку гипотезы по 10-балльной шкале. Чем больше значение Efforts, тем дороже проверка гипотезы."
   ]
  },
  {
   "cell_type": "code",
   "execution_count": 6,
   "metadata": {},
   "outputs": [],
   "source": [
    "hypothesis.columns = [x.lower() for x in hypothesis.columns.values]"
   ]
  },
  {
   "cell_type": "markdown",
   "metadata": {},
   "source": [
    "#### Проверим на наличие пропусков"
   ]
  },
  {
   "cell_type": "code",
   "execution_count": 7,
   "metadata": {},
   "outputs": [
    {
     "data": {
      "text/html": [
       "<style type=\"text/css\">\n",
       "#T_7e212_row0_col0, #T_7e212_row1_col0, #T_7e212_row2_col0 {\n",
       "  background-color: #3b4cc0;\n",
       "  color: #f1f1f1;\n",
       "}\n",
       "</style>\n",
       "<table id=\"T_7e212\">\n",
       "  <thead>\n",
       "    <tr>\n",
       "      <th class=\"blank level0\" >&nbsp;</th>\n",
       "      <th id=\"T_7e212_level0_col0\" class=\"col_heading level0 col0\" >0</th>\n",
       "    </tr>\n",
       "  </thead>\n",
       "  <tbody>\n",
       "    <tr>\n",
       "      <th id=\"T_7e212_level0_row0\" class=\"row_heading level0 row0\" >date</th>\n",
       "      <td id=\"T_7e212_row0_col0\" class=\"data row0 col0\" >0.00%</td>\n",
       "    </tr>\n",
       "    <tr>\n",
       "      <th id=\"T_7e212_level0_row1\" class=\"row_heading level0 row1\" >group</th>\n",
       "      <td id=\"T_7e212_row1_col0\" class=\"data row1 col0\" >0.00%</td>\n",
       "    </tr>\n",
       "    <tr>\n",
       "      <th id=\"T_7e212_level0_row2\" class=\"row_heading level0 row2\" >visitors</th>\n",
       "      <td id=\"T_7e212_row2_col0\" class=\"data row2 col0\" >0.00%</td>\n",
       "    </tr>\n",
       "  </tbody>\n",
       "</table>\n"
      ],
      "text/plain": [
       "<pandas.io.formats.style.Styler at 0x1c530c467c0>"
      ]
     },
     "metadata": {},
     "output_type": "display_data"
    },
    {
     "data": {
      "text/html": [
       "<style type=\"text/css\">\n",
       "#T_7c9b9_row0_col0, #T_7c9b9_row1_col0, #T_7c9b9_row2_col0, #T_7c9b9_row3_col0, #T_7c9b9_row4_col0 {\n",
       "  background-color: #3b4cc0;\n",
       "  color: #f1f1f1;\n",
       "}\n",
       "</style>\n",
       "<table id=\"T_7c9b9\">\n",
       "  <thead>\n",
       "    <tr>\n",
       "      <th class=\"blank level0\" >&nbsp;</th>\n",
       "      <th id=\"T_7c9b9_level0_col0\" class=\"col_heading level0 col0\" >0</th>\n",
       "    </tr>\n",
       "  </thead>\n",
       "  <tbody>\n",
       "    <tr>\n",
       "      <th id=\"T_7c9b9_level0_row0\" class=\"row_heading level0 row0\" >transactionId</th>\n",
       "      <td id=\"T_7c9b9_row0_col0\" class=\"data row0 col0\" >0.00%</td>\n",
       "    </tr>\n",
       "    <tr>\n",
       "      <th id=\"T_7c9b9_level0_row1\" class=\"row_heading level0 row1\" >visitorId</th>\n",
       "      <td id=\"T_7c9b9_row1_col0\" class=\"data row1 col0\" >0.00%</td>\n",
       "    </tr>\n",
       "    <tr>\n",
       "      <th id=\"T_7c9b9_level0_row2\" class=\"row_heading level0 row2\" >date</th>\n",
       "      <td id=\"T_7c9b9_row2_col0\" class=\"data row2 col0\" >0.00%</td>\n",
       "    </tr>\n",
       "    <tr>\n",
       "      <th id=\"T_7c9b9_level0_row3\" class=\"row_heading level0 row3\" >revenue</th>\n",
       "      <td id=\"T_7c9b9_row3_col0\" class=\"data row3 col0\" >0.00%</td>\n",
       "    </tr>\n",
       "    <tr>\n",
       "      <th id=\"T_7c9b9_level0_row4\" class=\"row_heading level0 row4\" >group</th>\n",
       "      <td id=\"T_7c9b9_row4_col0\" class=\"data row4 col0\" >0.00%</td>\n",
       "    </tr>\n",
       "  </tbody>\n",
       "</table>\n"
      ],
      "text/plain": [
       "<pandas.io.formats.style.Styler at 0x1c52b737cd0>"
      ]
     },
     "metadata": {},
     "output_type": "display_data"
    },
    {
     "data": {
      "text/html": [
       "<style type=\"text/css\">\n",
       "#T_5dc89_row0_col0, #T_5dc89_row1_col0, #T_5dc89_row2_col0, #T_5dc89_row3_col0, #T_5dc89_row4_col0 {\n",
       "  background-color: #3b4cc0;\n",
       "  color: #f1f1f1;\n",
       "}\n",
       "</style>\n",
       "<table id=\"T_5dc89\">\n",
       "  <thead>\n",
       "    <tr>\n",
       "      <th class=\"blank level0\" >&nbsp;</th>\n",
       "      <th id=\"T_5dc89_level0_col0\" class=\"col_heading level0 col0\" >0</th>\n",
       "    </tr>\n",
       "  </thead>\n",
       "  <tbody>\n",
       "    <tr>\n",
       "      <th id=\"T_5dc89_level0_row0\" class=\"row_heading level0 row0\" >hypothesis</th>\n",
       "      <td id=\"T_5dc89_row0_col0\" class=\"data row0 col0\" >0.00%</td>\n",
       "    </tr>\n",
       "    <tr>\n",
       "      <th id=\"T_5dc89_level0_row1\" class=\"row_heading level0 row1\" >reach</th>\n",
       "      <td id=\"T_5dc89_row1_col0\" class=\"data row1 col0\" >0.00%</td>\n",
       "    </tr>\n",
       "    <tr>\n",
       "      <th id=\"T_5dc89_level0_row2\" class=\"row_heading level0 row2\" >impact</th>\n",
       "      <td id=\"T_5dc89_row2_col0\" class=\"data row2 col0\" >0.00%</td>\n",
       "    </tr>\n",
       "    <tr>\n",
       "      <th id=\"T_5dc89_level0_row3\" class=\"row_heading level0 row3\" >confidence</th>\n",
       "      <td id=\"T_5dc89_row3_col0\" class=\"data row3 col0\" >0.00%</td>\n",
       "    </tr>\n",
       "    <tr>\n",
       "      <th id=\"T_5dc89_level0_row4\" class=\"row_heading level0 row4\" >efforts</th>\n",
       "      <td id=\"T_5dc89_row4_col0\" class=\"data row4 col0\" >0.00%</td>\n",
       "    </tr>\n",
       "  </tbody>\n",
       "</table>\n"
      ],
      "text/plain": [
       "<pandas.io.formats.style.Styler at 0x1c530ddfdc0>"
      ]
     },
     "metadata": {},
     "output_type": "display_data"
    }
   ],
   "source": [
    "display(\n",
    "    visitors.isna().mean().round(4).to_frame().sort_values(by=0).style.format('{:.2%}').background_gradient('coolwarm'),\n",
    "    orders.isna().mean().round(4).to_frame().sort_values(by=0).style.format('{:.2%}').background_gradient('coolwarm'),\n",
    "    hypothesis.isna().mean().round(4).to_frame().sort_values(by=0).style.format('{:.2%}').background_gradient('coolwarm')\n",
    ")"
   ]
  },
  {
   "cell_type": "markdown",
   "metadata": {},
   "source": [
    "#### Проверим на наличие дубликатов"
   ]
  },
  {
   "cell_type": "code",
   "execution_count": 8,
   "metadata": {},
   "outputs": [
    {
     "data": {
      "text/plain": [
       "0"
      ]
     },
     "metadata": {},
     "output_type": "display_data"
    },
    {
     "data": {
      "text/plain": [
       "0"
      ]
     },
     "metadata": {},
     "output_type": "display_data"
    },
    {
     "data": {
      "text/plain": [
       "0"
      ]
     },
     "metadata": {},
     "output_type": "display_data"
    }
   ],
   "source": [
    "display(\n",
    "    visitors.duplicated().sum(), \n",
    "    orders.duplicated().sum(),\n",
    "    hypothesis.duplicated().sum()\n",
    ")"
   ]
  },
  {
   "cell_type": "markdown",
   "metadata": {},
   "source": [
    "#### Преобразуем данные связанные с датой"
   ]
  },
  {
   "cell_type": "code",
   "execution_count": 9,
   "metadata": {},
   "outputs": [],
   "source": [
    "visitors['date'] = visitors['date'].map(lambda x: dt.datetime.strptime(x, '%Y-%m-%d'))\n",
    "orders['date'] = orders['date'].map(lambda x: dt.datetime.strptime(x, '%Y-%m-%d'))"
   ]
  },
  {
   "cell_type": "markdown",
   "metadata": {},
   "source": [
    "#### Выводы"
   ]
  },
  {
   "cell_type": "markdown",
   "metadata": {},
   "source": [
    "- Изучили данные;\n",
    "- Пропуски отсутствуют;\n",
    "- Дубликаты отсутствуют;\n",
    "- Преобразовали данные \"data\""
   ]
  },
  {
   "cell_type": "code",
   "execution_count": 10,
   "metadata": {},
   "outputs": [
    {
     "data": {
      "text/plain": [
       "array(['A', 'B'], dtype=object)"
      ]
     },
     "execution_count": 10,
     "metadata": {},
     "output_type": "execute_result"
    }
   ],
   "source": [
    "# Выясним сколько у нас групп в тесте\n",
    "visitors['group'].unique()"
   ]
  },
  {
   "cell_type": "code",
   "execution_count": 11,
   "metadata": {},
   "outputs": [
    {
     "name": "stdout",
     "output_type": "stream",
     "text": [
      "Дата начала теста: 2019-08-01 00:00:00\n"
     ]
    }
   ],
   "source": [
    "# выясним временной интервал теста\n",
    "print(f'Дата начала теста: {visitors[\"date\"].min()}')"
   ]
  },
  {
   "cell_type": "code",
   "execution_count": 12,
   "metadata": {},
   "outputs": [
    {
     "name": "stdout",
     "output_type": "stream",
     "text": [
      "Дата окончания теста: 2019-08-31 00:00:00\n"
     ]
    }
   ],
   "source": [
    "print(f'Дата окончания теста: {visitors[\"date\"].max()}')"
   ]
  },
  {
   "cell_type": "markdown",
   "metadata": {},
   "source": [
    "Тест проводился в августе 2019г."
   ]
  },
  {
   "cell_type": "code",
   "execution_count": 13,
   "metadata": {},
   "outputs": [
    {
     "data": {
      "text/plain": [
       "B    640\n",
       "A    557\n",
       "Name: group, dtype: int64"
      ]
     },
     "execution_count": 13,
     "metadata": {},
     "output_type": "execute_result"
    }
   ],
   "source": [
    "#Количество заказов в каждой группе\n",
    "orders['group'].value_counts()"
   ]
  },
  {
   "cell_type": "code",
   "execution_count": 14,
   "metadata": {},
   "outputs": [
    {
     "name": "stdout",
     "output_type": "stream",
     "text": [
      "Пользователей, попавших в обе группы: 58\n"
     ]
    }
   ],
   "source": [
    "# пользователи в обеих группах\n",
    "doubles = orders.groupby(['visitorId']).agg({'group' : 'nunique'}).reset_index()\n",
    "print(f'Пользователей, попавших в обе группы: {doubles[doubles.group != 1][\"visitorId\"].count()}')"
   ]
  },
  {
   "cell_type": "markdown",
   "metadata": {},
   "source": [
    "### Приоритизация гипотез"
   ]
  },
  {
   "cell_type": "markdown",
   "metadata": {},
   "source": [
    "#### Применим фреймворк ICE для приоритизации гипотез. Отсортируим их по убыванию приоритета."
   ]
  },
  {
   "cell_type": "code",
   "execution_count": 15,
   "metadata": {},
   "outputs": [
    {
     "data": {
      "text/html": [
       "<div>\n",
       "<style scoped>\n",
       "    .dataframe tbody tr th:only-of-type {\n",
       "        vertical-align: middle;\n",
       "    }\n",
       "\n",
       "    .dataframe tbody tr th {\n",
       "        vertical-align: top;\n",
       "    }\n",
       "\n",
       "    .dataframe thead th {\n",
       "        text-align: right;\n",
       "    }\n",
       "</style>\n",
       "<table border=\"1\" class=\"dataframe\">\n",
       "  <thead>\n",
       "    <tr style=\"text-align: right;\">\n",
       "      <th></th>\n",
       "      <th>hypothesis</th>\n",
       "      <th>ICE</th>\n",
       "    </tr>\n",
       "  </thead>\n",
       "  <tbody>\n",
       "    <tr>\n",
       "      <th>8</th>\n",
       "      <td>Запустить акцию, дающую скидку на товар в день рождения</td>\n",
       "      <td>16.20</td>\n",
       "    </tr>\n",
       "    <tr>\n",
       "      <th>0</th>\n",
       "      <td>Добавить два новых канала привлечения трафика, что позволит привлекать на 30% больше пользователей</td>\n",
       "      <td>13.33</td>\n",
       "    </tr>\n",
       "    <tr>\n",
       "      <th>7</th>\n",
       "      <td>Добавить форму подписки на все основные страницы, чтобы собрать базу клиентов для email-рассылок</td>\n",
       "      <td>11.20</td>\n",
       "    </tr>\n",
       "    <tr>\n",
       "      <th>6</th>\n",
       "      <td>Показать на главной странице баннеры с актуальными акциями и распродажами, чтобы увеличить конверсию</td>\n",
       "      <td>8.00</td>\n",
       "    </tr>\n",
       "    <tr>\n",
       "      <th>2</th>\n",
       "      <td>Добавить блоки рекомендаций товаров на сайт интернет магазина, чтобы повысить конверсию и средний чек заказа</td>\n",
       "      <td>7.00</td>\n",
       "    </tr>\n",
       "    <tr>\n",
       "      <th>1</th>\n",
       "      <td>Запустить собственную службу доставки, что сократит срок доставки заказов</td>\n",
       "      <td>2.00</td>\n",
       "    </tr>\n",
       "    <tr>\n",
       "      <th>5</th>\n",
       "      <td>Добавить страницу отзывов клиентов о магазине, что позволит увеличить количество заказов</td>\n",
       "      <td>1.33</td>\n",
       "    </tr>\n",
       "    <tr>\n",
       "      <th>3</th>\n",
       "      <td>Изменить структура категорий, что увеличит конверсию, т.к. пользователи быстрее найдут нужный товар</td>\n",
       "      <td>1.12</td>\n",
       "    </tr>\n",
       "    <tr>\n",
       "      <th>4</th>\n",
       "      <td>Изменить цвет фона главной страницы, чтобы увеличить вовлеченность пользователей</td>\n",
       "      <td>1.00</td>\n",
       "    </tr>\n",
       "  </tbody>\n",
       "</table>\n",
       "</div>"
      ],
      "text/plain": [
       "                                                                                                     hypothesis  \\\n",
       "8                                                       Запустить акцию, дающую скидку на товар в день рождения   \n",
       "0            Добавить два новых канала привлечения трафика, что позволит привлекать на 30% больше пользователей   \n",
       "7              Добавить форму подписки на все основные страницы, чтобы собрать базу клиентов для email-рассылок   \n",
       "6          Показать на главной странице баннеры с актуальными акциями и распродажами, чтобы увеличить конверсию   \n",
       "2  Добавить блоки рекомендаций товаров на сайт интернет магазина, чтобы повысить конверсию и средний чек заказа   \n",
       "1                                     Запустить собственную службу доставки, что сократит срок доставки заказов   \n",
       "5                      Добавить страницу отзывов клиентов о магазине, что позволит увеличить количество заказов   \n",
       "3           Изменить структура категорий, что увеличит конверсию, т.к. пользователи быстрее найдут нужный товар   \n",
       "4                              Изменить цвет фона главной страницы, чтобы увеличить вовлеченность пользователей   \n",
       "\n",
       "     ICE  \n",
       "8  16.20  \n",
       "0  13.33  \n",
       "7  11.20  \n",
       "6   8.00  \n",
       "2   7.00  \n",
       "1   2.00  \n",
       "5   1.33  \n",
       "3   1.12  \n",
       "4   1.00  "
      ]
     },
     "execution_count": 15,
     "metadata": {},
     "output_type": "execute_result"
    }
   ],
   "source": [
    "hypothesis['ICE'] =round(hypothesis['impact'] * hypothesis['confidence'] / hypothesis['efforts'], 2)\n",
    "hypothesis_new = hypothesis[['hypothesis', 'ICE']].sort_values(by='ICE', ascending=False)\n",
    "\n",
    "hypothesis_new"
   ]
  },
  {
   "cell_type": "markdown",
   "metadata": {},
   "source": [
    "По ICE наиболее перспективные гипотезы:\n",
    "- 8\tЗапустить акцию, дающую скидку на товар в день рождения\n",
    "- 0\tДобавить два новых канала привлечения трафика, что позволит привлекать на 30% больше пользователей\n",
    "- 7\tДобавить форму подписки на все основные страницы, чтобы собрать базу клиентов для email-рассылок\t"
   ]
  },
  {
   "cell_type": "markdown",
   "metadata": {},
   "source": [
    "#### Примените фреймворк RICE для приоритизации гипотез. Отсортируйте их по убыванию приоритета."
   ]
  },
  {
   "cell_type": "code",
   "execution_count": 16,
   "metadata": {},
   "outputs": [
    {
     "data": {
      "text/html": [
       "<div>\n",
       "<style scoped>\n",
       "    .dataframe tbody tr th:only-of-type {\n",
       "        vertical-align: middle;\n",
       "    }\n",
       "\n",
       "    .dataframe tbody tr th {\n",
       "        vertical-align: top;\n",
       "    }\n",
       "\n",
       "    .dataframe thead th {\n",
       "        text-align: right;\n",
       "    }\n",
       "</style>\n",
       "<table border=\"1\" class=\"dataframe\">\n",
       "  <thead>\n",
       "    <tr style=\"text-align: right;\">\n",
       "      <th></th>\n",
       "      <th>hypothesis</th>\n",
       "      <th>RICE</th>\n",
       "    </tr>\n",
       "  </thead>\n",
       "  <tbody>\n",
       "    <tr>\n",
       "      <th>7</th>\n",
       "      <td>Добавить форму подписки на все основные страницы, чтобы собрать базу клиентов для email-рассылок</td>\n",
       "      <td>112.0</td>\n",
       "    </tr>\n",
       "    <tr>\n",
       "      <th>2</th>\n",
       "      <td>Добавить блоки рекомендаций товаров на сайт интернет магазина, чтобы повысить конверсию и средний чек заказа</td>\n",
       "      <td>56.0</td>\n",
       "    </tr>\n",
       "    <tr>\n",
       "      <th>0</th>\n",
       "      <td>Добавить два новых канала привлечения трафика, что позволит привлекать на 30% больше пользователей</td>\n",
       "      <td>40.0</td>\n",
       "    </tr>\n",
       "    <tr>\n",
       "      <th>6</th>\n",
       "      <td>Показать на главной странице баннеры с актуальными акциями и распродажами, чтобы увеличить конверсию</td>\n",
       "      <td>40.0</td>\n",
       "    </tr>\n",
       "    <tr>\n",
       "      <th>8</th>\n",
       "      <td>Запустить акцию, дающую скидку на товар в день рождения</td>\n",
       "      <td>16.2</td>\n",
       "    </tr>\n",
       "    <tr>\n",
       "      <th>3</th>\n",
       "      <td>Изменить структура категорий, что увеличит конверсию, т.к. пользователи быстрее найдут нужный товар</td>\n",
       "      <td>9.0</td>\n",
       "    </tr>\n",
       "    <tr>\n",
       "      <th>1</th>\n",
       "      <td>Запустить собственную службу доставки, что сократит срок доставки заказов</td>\n",
       "      <td>4.0</td>\n",
       "    </tr>\n",
       "    <tr>\n",
       "      <th>5</th>\n",
       "      <td>Добавить страницу отзывов клиентов о магазине, что позволит увеличить количество заказов</td>\n",
       "      <td>4.0</td>\n",
       "    </tr>\n",
       "    <tr>\n",
       "      <th>4</th>\n",
       "      <td>Изменить цвет фона главной страницы, чтобы увеличить вовлеченность пользователей</td>\n",
       "      <td>3.0</td>\n",
       "    </tr>\n",
       "  </tbody>\n",
       "</table>\n",
       "</div>"
      ],
      "text/plain": [
       "                                                                                                     hypothesis  \\\n",
       "7              Добавить форму подписки на все основные страницы, чтобы собрать базу клиентов для email-рассылок   \n",
       "2  Добавить блоки рекомендаций товаров на сайт интернет магазина, чтобы повысить конверсию и средний чек заказа   \n",
       "0            Добавить два новых канала привлечения трафика, что позволит привлекать на 30% больше пользователей   \n",
       "6          Показать на главной странице баннеры с актуальными акциями и распродажами, чтобы увеличить конверсию   \n",
       "8                                                       Запустить акцию, дающую скидку на товар в день рождения   \n",
       "3           Изменить структура категорий, что увеличит конверсию, т.к. пользователи быстрее найдут нужный товар   \n",
       "1                                     Запустить собственную службу доставки, что сократит срок доставки заказов   \n",
       "5                      Добавить страницу отзывов клиентов о магазине, что позволит увеличить количество заказов   \n",
       "4                              Изменить цвет фона главной страницы, чтобы увеличить вовлеченность пользователей   \n",
       "\n",
       "    RICE  \n",
       "7  112.0  \n",
       "2   56.0  \n",
       "0   40.0  \n",
       "6   40.0  \n",
       "8   16.2  \n",
       "3    9.0  \n",
       "1    4.0  \n",
       "5    4.0  \n",
       "4    3.0  "
      ]
     },
     "execution_count": 16,
     "metadata": {},
     "output_type": "execute_result"
    }
   ],
   "source": [
    "hypothesis['RICE'] = round(hypothesis['reach'] * hypothesis['impact'] * hypothesis['confidence'] / hypothesis['efforts'], 2)\n",
    "hypothesis_new = hypothesis[['hypothesis', 'RICE']].sort_values(by='RICE', ascending = False)\n",
    "hypothesis_new"
   ]
  },
  {
   "cell_type": "markdown",
   "metadata": {},
   "source": [
    "По RICE наиболее перспективные гипотезы:\n",
    "- 7\tДобавить форму подписки на все основные страницы, чтобы собрать базу клиентов для email-рассылок\n",
    "- 2\tДобавить блоки рекомендаций товаров на сайт интернет магазина, чтобы повысить конверсию и средний чек заказа\n",
    "- 0\tДобавить два новых канала привлечения трафика, что позволит привлекать на 30% больше пользователей"
   ]
  },
  {
   "cell_type": "markdown",
   "metadata": {},
   "source": [
    "#### Как изменилась приоритизация гипотез при применении RICE вместо ICE:"
   ]
  },
  {
   "cell_type": "markdown",
   "metadata": {},
   "source": [
    "При применении метода RICE гипотеза под номером 8 \"Запустить акцию, дающую скидку на товар в день рождения\" перемистилась с первой позиции на пятую. А гипотеза под номером 7 \"Добавить форму подписки на все основные страницы, чтобы собрать базу клиентов для email-рассылок\" переместилась с третий позиции на первую.\n"
   ]
  },
  {
   "cell_type": "markdown",
   "metadata": {},
   "source": [
    "### Анализ A/B-теста"
   ]
  },
  {
   "cell_type": "markdown",
   "metadata": {},
   "source": [
    "#### Построим график кумулятивной выручки по группам"
   ]
  },
  {
   "cell_type": "code",
   "execution_count": 42,
   "metadata": {},
   "outputs": [],
   "source": [
    "# создаем массив уникальных значений\n",
    "dates_groups = orders[['date', 'group']].drop_duplicates()"
   ]
  },
  {
   "cell_type": "code",
   "execution_count": 43,
   "metadata": {},
   "outputs": [
    {
     "data": {
      "text/html": [
       "<div>\n",
       "<style scoped>\n",
       "    .dataframe tbody tr th:only-of-type {\n",
       "        vertical-align: middle;\n",
       "    }\n",
       "\n",
       "    .dataframe tbody tr th {\n",
       "        vertical-align: top;\n",
       "    }\n",
       "\n",
       "    .dataframe thead th {\n",
       "        text-align: right;\n",
       "    }\n",
       "</style>\n",
       "<table border=\"1\" class=\"dataframe\">\n",
       "  <thead>\n",
       "    <tr style=\"text-align: right;\">\n",
       "      <th></th>\n",
       "      <th>date</th>\n",
       "      <th>group</th>\n",
       "      <th>orders</th>\n",
       "      <th>buyers</th>\n",
       "      <th>revenue</th>\n",
       "      <th>visitors</th>\n",
       "    </tr>\n",
       "  </thead>\n",
       "  <tbody>\n",
       "    <tr>\n",
       "      <th>0</th>\n",
       "      <td>2019-08-01</td>\n",
       "      <td>A</td>\n",
       "      <td>24</td>\n",
       "      <td>20</td>\n",
       "      <td>148579</td>\n",
       "      <td>719</td>\n",
       "    </tr>\n",
       "    <tr>\n",
       "      <th>1</th>\n",
       "      <td>2019-08-01</td>\n",
       "      <td>B</td>\n",
       "      <td>21</td>\n",
       "      <td>20</td>\n",
       "      <td>101217</td>\n",
       "      <td>713</td>\n",
       "    </tr>\n",
       "    <tr>\n",
       "      <th>2</th>\n",
       "      <td>2019-08-02</td>\n",
       "      <td>A</td>\n",
       "      <td>44</td>\n",
       "      <td>38</td>\n",
       "      <td>242401</td>\n",
       "      <td>1338</td>\n",
       "    </tr>\n",
       "    <tr>\n",
       "      <th>3</th>\n",
       "      <td>2019-08-02</td>\n",
       "      <td>B</td>\n",
       "      <td>45</td>\n",
       "      <td>43</td>\n",
       "      <td>266748</td>\n",
       "      <td>1294</td>\n",
       "    </tr>\n",
       "    <tr>\n",
       "      <th>4</th>\n",
       "      <td>2019-08-03</td>\n",
       "      <td>A</td>\n",
       "      <td>68</td>\n",
       "      <td>62</td>\n",
       "      <td>354874</td>\n",
       "      <td>1845</td>\n",
       "    </tr>\n",
       "  </tbody>\n",
       "</table>\n",
       "</div>"
      ],
      "text/plain": [
       "        date group  orders  buyers  revenue  visitors\n",
       "0 2019-08-01     A      24      20   148579       719\n",
       "1 2019-08-01     B      21      20   101217       713\n",
       "2 2019-08-02     A      44      38   242401      1338\n",
       "3 2019-08-02     B      45      43   266748      1294\n",
       "4 2019-08-03     A      68      62   354874      1845"
      ]
     },
     "execution_count": 43,
     "metadata": {},
     "output_type": "execute_result"
    }
   ],
   "source": [
    "# получаем агрегированные кумулятивные по дням данные о заказах\n",
    "orders_aggregated = dates_groups.apply(\n",
    "    lambda x: orders[np.logical_and(orders['date'] <= x['date'], orders['group'] == x['group'])]\n",
    "    .agg(\n",
    "        {'date' : 'max', 'group' : 'max', 'transactionId' : 'nunique', 'visitorId' : 'nunique', 'revenue' : 'sum'}\n",
    "    ), axis=1).sort_values(by=['date', 'group'])\n",
    "\n",
    "# получаем агрированные кумулятивные по дням данные о поситителях интерент-магазина\n",
    "visitors_aggregated = dates_groups.apply(\n",
    "    lambda x: visitors[np.logical_and(visitors['date'] <= x['date'], visitors['group'] == x['group'])]\n",
    "    .agg(\n",
    "        {'date' : 'max', 'group' : 'max', 'visitors' : 'sum'}\n",
    "    ), axis=1).sort_values(by=['date', 'group'])\n",
    "\n",
    "# объединяем кумулятивные данные в одной таблице и присваиваем ее столбцам названия\n",
    "cumulative_data = orders_aggregated.merge(visitors_aggregated, left_on=['date', 'group'], right_on=['date', 'group'])\n",
    "cumulative_data.columns = ['date', 'group', 'orders', 'buyers', 'revenue', 'visitors']\n",
    "cumulative_data.head()\n"
   ]
  },
  {
   "cell_type": "markdown",
   "metadata": {},
   "source": [
    "Даты начала и окончания теста совпадают с исходными данными"
   ]
  },
  {
   "cell_type": "code",
   "execution_count": 44,
   "metadata": {},
   "outputs": [
    {
     "name": "stdout",
     "output_type": "stream",
     "text": [
      "Начало теста: 2019-08-01 00:00:00\n"
     ]
    }
   ],
   "source": [
    "print(f'Начало теста: {cumulative_data[\"date\"].min()}')"
   ]
  },
  {
   "cell_type": "code",
   "execution_count": 45,
   "metadata": {},
   "outputs": [
    {
     "name": "stdout",
     "output_type": "stream",
     "text": [
      "Окончание теста: 2019-08-31 00:00:00\n"
     ]
    }
   ],
   "source": [
    "print(f'Окончание теста: {cumulative_data[\"date\"].max()}')"
   ]
  },
  {
   "cell_type": "code",
   "execution_count": 46,
   "metadata": {},
   "outputs": [
    {
     "data": {
      "image/png": "[encoded data removed]",
      "text/plain": [
       "<Figure size 1200x700 with 1 Axes>"
      ]
     },
     "metadata": {},
     "output_type": "display_data"
    }
   ],
   "source": [
    "# датафрейм с кумулятивным количеством заказов и кумулятивной выручкой по дням в группе А\n",
    "cumulative_revenue_A = cumulative_data[cumulative_data['group'] == 'A'][['date', 'revenue', 'orders']]\n",
    "\n",
    "# датафрейм с кумулятивным количеством заказов и кумулятивной выручкой по дням в группе B\n",
    "cumulative_revenue_B = cumulative_data[cumulative_data['group'] == 'B'][['date', 'revenue', 'orders']]\n",
    "\n",
    "# задаём размер для графиков\n",
    "plt.figure(figsize=(12, 7))\n",
    "\n",
    "# график выручки группы А\n",
    "plt.plot(cumulative_revenue_A['date'], cumulative_revenue_A['revenue'], label='A')\n",
    "\n",
    "# график выручки группы В\n",
    "plt.plot(cumulative_revenue_B['date'], cumulative_revenue_B['revenue'], label='B')\n",
    "\n",
    "plt.title('Кумулятивная выручка по группам')\n",
    "plt.xlabel('Дата')\n",
    "plt.ylabel('Выручка')\n",
    "plt.grid()\n",
    "plt.legend()\n",
    "plt.show()"
   ]
  },
  {
   "cell_type": "markdown",
   "metadata": {},
   "source": [
    "**Выручка в группе А увеличивается практически равномерно в течение теста. В группе В выручка тоже растет, но виден явный скачок. Это может говорить о резком росте числа заказов или резком росте дорогих заказов. Возможно это аномальные заказы.**"
   ]
  },
  {
   "cell_type": "markdown",
   "metadata": {},
   "source": [
    "#### Построим график кумулятивного среднего чека по группам"
   ]
  },
  {
   "cell_type": "code",
   "execution_count": 22,
   "metadata": {},
   "outputs": [
    {
     "data": {
      "image/png": "[encoded data removed]",
      "text/plain": [
       "<Figure size 1200x700 with 1 Axes>"
      ]
     },
     "metadata": {},
     "output_type": "display_data"
    }
   ],
   "source": [
    "# задаём размер для графиков\n",
    "plt.figure(figsize=(12, 7))\n",
    "\n",
    "plt.plot(cumulative_revenue_A['date'], cumulative_revenue_A['revenue'] / cumulative_revenue_A['orders'], label='A')\n",
    "plt.plot(cumulative_revenue_B['date'], cumulative_revenue_B['revenue'] / cumulative_revenue_B['orders'], label='B')\n",
    "plt.title('Кумулятивный средний чек по группам')\n",
    "plt.xlabel('Дата')\n",
    "plt.ylabel('Средний чек')\n",
    "plt.grid()\n",
    "plt.legend()\n",
    "plt.show()"
   ]
  },
  {
   "cell_type": "markdown",
   "metadata": {},
   "source": [
    "**Колебания кумулятивного значения среднего чека в группе A во второй половине теста снижаются и становится более равномерным, что не скажешь о группе В. Где постоянные колебание и виден резкий рост. Требуется анализ выбросов.**"
   ]
  },
  {
   "cell_type": "markdown",
   "metadata": {},
   "source": [
    "#### Построим график относительного изменения кумулятивного среднего чека группы B к группе A."
   ]
  },
  {
   "cell_type": "code",
   "execution_count": 23,
   "metadata": {},
   "outputs": [
    {
     "data": {
      "image/png": "[encoded data removed]",
      "text/plain": [
       "<Figure size 1200x700 with 1 Axes>"
      ]
     },
     "metadata": {},
     "output_type": "display_data"
    }
   ],
   "source": [
    "# соберем данные в одном датафрейме\n",
    "merged_cumuiative_revenue = cumulative_revenue_A.merge(cumulative_revenue_B, left_on='date', right_on='date', suffixes=['A', 'B'])\n",
    "\n",
    "# строим отношение средних чеков\n",
    "plt.figure(figsize=(12, 7))\n",
    "plt.plot(merged_cumuiative_revenue['date'], (merged_cumuiative_revenue['revenueB']/merged_cumuiative_revenue['ordersB'])/(merged_cumuiative_revenue['revenueA']/merged_cumuiative_revenue['ordersA'])-1)\n",
    "plt.axhline(y=0, color='red', linestyle='--')\n",
    "plt.title('Относительное изменение кумулятивного среднего чека группы В к группе А')\n",
    "plt.xlabel('Дата')\n",
    "plt.ylabel('Отношение среднего чека группы В к А')\n",
    "plt.grid()\n",
    "plt.show()"
   ]
  },
  {
   "cell_type": "markdown",
   "metadata": {},
   "source": [
    "**График различия между группами резко скачет. Что говорит о том, что есть крупные заказы и выбросы.**"
   ]
  },
  {
   "cell_type": "markdown",
   "metadata": {},
   "source": [
    "#### Построим график кумулятивного среднего количества заказов на посетителя по группам"
   ]
  },
  {
   "cell_type": "code",
   "execution_count": 24,
   "metadata": {},
   "outputs": [
    {
     "data": {
      "image/png": "[encoded data removed]",
      "text/plain": [
       "<Figure size 1200x700 with 1 Axes>"
      ]
     },
     "metadata": {},
     "output_type": "display_data"
    }
   ],
   "source": [
    "# считаем кумулятивную конверсию\n",
    "cumulative_data['conversion'] = cumulative_data['orders']/cumulative_data['visitors']\n",
    "\n",
    "# отделяем данные по группе А\n",
    "cumulative_data_A = cumulative_data[cumulative_data['group'] == 'A']\n",
    "\n",
    "# отделяем данные по группе B\n",
    "cumulative_data_B = cumulative_data[cumulative_data['group'] == 'B']\n",
    "\n",
    "# строим графики\n",
    "plt.figure(figsize=(12, 7))\n",
    "plt.plot(cumulative_data_A['date'], cumulative_data_A['conversion'], label='A')\n",
    "plt.plot(cumulative_data_B['date'], cumulative_data_B['conversion'], label='B')\n",
    "plt.title('Кумулятивное среднее количество заказов на поситителя по группам')\n",
    "plt.xlabel('Дата')\n",
    "plt.ylabel('Конверсия')\n",
    "plt.grid()\n",
    "plt.legend()\n",
    "plt.show()"
   ]
  },
  {
   "cell_type": "markdown",
   "metadata": {},
   "source": [
    "**Графики колеблються. У группы В конверсия больше, чем у группы А. Хотя в начале теста все было наоборот.**"
   ]
  },
  {
   "cell_type": "markdown",
   "metadata": {},
   "source": [
    "#### Построим график относительного изменения кумулятивного среднего количества заказов на посетителя группы B к группе A"
   ]
  },
  {
   "cell_type": "code",
   "execution_count": 47,
   "metadata": {},
   "outputs": [
    {
     "data": {
      "image/png": "[encoded data removed]",
      "text/plain": [
       "<Figure size 1500x700 with 1 Axes>"
      ]
     },
     "metadata": {},
     "output_type": "display_data"
    }
   ],
   "source": [
    "merged_cumulative_conversions = cumulative_data_A[['date', 'conversion']].merge(cumulative_data_B[['date', 'conversion']], left_on='date', right_on='date', how='left', suffixes=['A', 'B'])\n",
    "\n",
    "# строим график\n",
    "plt.figure(figsize=(15, 7))\n",
    "plt.plot(merged_cumulative_conversions['date'], merged_cumulative_conversions['conversionB']/merged_cumulative_conversions['conversionA']-1,label='Относительный прирост конверсии группы B относительно группы A')\n",
    "plt.legend()\n",
    "\n",
    "plt.axhline(y=0, color='red', linestyle='--')\n",
    "plt.axhline(y=-0.1, color='black', linestyle='--')\n",
    "plt.title('Относительное изменение кумулятивного среднего количества заказов на посетителя группы B к группе A')\n",
    "plt.xlabel('Дата')\n",
    "plt.ylabel('Отношение конверсии группы В к А')\n",
    "plt.grid()\n",
    "plt.show()"
   ]
  },
  {
   "cell_type": "markdown",
   "metadata": {},
   "source": [
    "**Группа В в начале проигрывала группе А, но затем вырвалась вперед.**"
   ]
  },
  {
   "cell_type": "markdown",
   "metadata": {},
   "source": [
    "#### Построим точечный график количества заказов по пользователям"
   ]
  },
  {
   "cell_type": "code",
   "execution_count": 26,
   "metadata": {},
   "outputs": [
    {
     "data": {
      "image/png": "[encoded data removed]",
      "text/plain": [
       "<Figure size 640x480 with 1 Axes>"
      ]
     },
     "metadata": {},
     "output_type": "display_data"
    }
   ],
   "source": [
    "orders_by_users = (orders.groupby('visitorId', as_index=False).agg({'transactionId' : 'nunique'}))\n",
    "orders_by_users.columns = ['userid', 'orders']\n",
    "x1_values = pd.Series(range(0, len(orders_by_users)))\n",
    "plt.scatter(x1_values, orders_by_users['orders'])\n",
    "plt.show()"
   ]
  },
  {
   "cell_type": "markdown",
   "metadata": {},
   "source": [
    "**Много пользователей с 1-2 заказами. Пользователй заказавших более двух раз мало**"
   ]
  },
  {
   "cell_type": "markdown",
   "metadata": {},
   "source": [
    "#### Посчитаим 95-й и 99-й перцентили количества заказов на пользователя"
   ]
  },
  {
   "cell_type": "code",
   "execution_count": 27,
   "metadata": {},
   "outputs": [
    {
     "data": {
      "text/plain": [
       "array([1., 2., 4.])"
      ]
     },
     "execution_count": 27,
     "metadata": {},
     "output_type": "execute_result"
    }
   ],
   "source": [
    "np.percentile(orders_by_users['orders'], [90, 95, 99])"
   ]
  },
  {
   "cell_type": "markdown",
   "metadata": {},
   "source": [
    "**Не более 5% совершали более двух заказов, и не более 1% делали больше 4 заказов. Аномальными пользователями будем считать пользователей совершивших более 4 заказов.**"
   ]
  },
  {
   "cell_type": "markdown",
   "metadata": {},
   "source": [
    "#### Построим точечный график стоимостей заказов"
   ]
  },
  {
   "cell_type": "code",
   "execution_count": 48,
   "metadata": {},
   "outputs": [
    {
     "data": {
      "image/png": "[encoded data removed]",
      "text/plain": [
       "<Figure size 640x480 with 1 Axes>"
      ]
     },
     "metadata": {},
     "output_type": "display_data"
    }
   ],
   "source": [
    "x2_values = pd.Series(range(0, len(orders['revenue'])))\n",
    "plt.scatter(x2_values, orders['revenue'])\n",
    "plt.grid()\n",
    "plt.show()"
   ]
  },
  {
   "cell_type": "markdown",
   "metadata": {},
   "source": [
    "**Видно два явных выброса. Один из которых переваливает за 1 200 000.**"
   ]
  },
  {
   "cell_type": "code",
   "execution_count": 49,
   "metadata": {},
   "outputs": [
    {
     "data": {
      "image/png": "[encoded data removed]",
      "text/plain": [
       "<Figure size 640x480 with 1 Axes>"
      ]
     },
     "metadata": {},
     "output_type": "display_data"
    }
   ],
   "source": [
    "orders_for_plot = orders[orders['revenue']<=200000]['revenue']\n",
    "x3_values = pd.Series(range(0,len(orders_for_plot)))\n",
    "plt.scatter(x3_values, orders_for_plot)\n",
    "plt.grid()\n",
    "plt.show()"
   ]
  },
  {
   "cell_type": "markdown",
   "metadata": {},
   "source": [
    "#### Посчитаим 95-й и 99-й перцентили стоимости заказов"
   ]
  },
  {
   "cell_type": "code",
   "execution_count": 30,
   "metadata": {},
   "outputs": [
    {
     "data": {
      "text/plain": [
       "array([18168. , 28000. , 58233.2])"
      ]
     },
     "execution_count": 30,
     "metadata": {},
     "output_type": "execute_result"
    }
   ],
   "source": [
    "np.percentile(orders['revenue'], [90, 95, 99])"
   ]
  },
  {
   "cell_type": "markdown",
   "metadata": {},
   "source": [
    "**Не более, чем у 5% заказов чек дороже 28 000, и не более, чем у 1% заказов чек дороже 58 000. Аномальными будем считать заказы дороже 28 000**"
   ]
  },
  {
   "cell_type": "markdown",
   "metadata": {},
   "source": [
    "#### Посчитаем статистическую значимость различий в среднем количестве заказов на посетителя между группами по «сырым» данным"
   ]
  },
  {
   "cell_type": "markdown",
   "metadata": {},
   "source": [
    "**Сформируем гипотезы.**\n",
    "- **Нулевая:** Различий в среднем количестве заказов между группами нет.\n",
    "- **Альтернативная:** Различия в среднем количестве заказов между группами есть\n",
    "- **alpha=0.05**"
   ]
  },
  {
   "cell_type": "code",
   "execution_count": 31,
   "metadata": {},
   "outputs": [
    {
     "data": {
      "text/html": [
       "<div>\n",
       "<style scoped>\n",
       "    .dataframe tbody tr th:only-of-type {\n",
       "        vertical-align: middle;\n",
       "    }\n",
       "\n",
       "    .dataframe tbody tr th {\n",
       "        vertical-align: top;\n",
       "    }\n",
       "\n",
       "    .dataframe thead th {\n",
       "        text-align: right;\n",
       "    }\n",
       "</style>\n",
       "<table border=\"1\" class=\"dataframe\">\n",
       "  <thead>\n",
       "    <tr style=\"text-align: right;\">\n",
       "      <th></th>\n",
       "      <th>date</th>\n",
       "      <th>orders_per_dateA</th>\n",
       "      <th>revenue_per_dateA</th>\n",
       "      <th>orders_per_dateB</th>\n",
       "      <th>revenue_per_dateB</th>\n",
       "      <th>orders_cummulativeA</th>\n",
       "      <th>revenue_cummulativeA</th>\n",
       "      <th>orders_cummulativeB</th>\n",
       "      <th>revenue_cummulativeB</th>\n",
       "      <th>visitors_per_dateA</th>\n",
       "      <th>visitors_per_dateB</th>\n",
       "      <th>visitors_cummulativeA</th>\n",
       "      <th>visitors_cummulativeB</th>\n",
       "    </tr>\n",
       "  </thead>\n",
       "  <tbody>\n",
       "    <tr>\n",
       "      <th>0</th>\n",
       "      <td>2019-08-01</td>\n",
       "      <td>24</td>\n",
       "      <td>148579</td>\n",
       "      <td>21</td>\n",
       "      <td>101217</td>\n",
       "      <td>24</td>\n",
       "      <td>148579</td>\n",
       "      <td>21</td>\n",
       "      <td>101217</td>\n",
       "      <td>719</td>\n",
       "      <td>713</td>\n",
       "      <td>719</td>\n",
       "      <td>713</td>\n",
       "    </tr>\n",
       "    <tr>\n",
       "      <th>1</th>\n",
       "      <td>2019-08-02</td>\n",
       "      <td>20</td>\n",
       "      <td>93822</td>\n",
       "      <td>24</td>\n",
       "      <td>165531</td>\n",
       "      <td>44</td>\n",
       "      <td>242401</td>\n",
       "      <td>45</td>\n",
       "      <td>266748</td>\n",
       "      <td>619</td>\n",
       "      <td>581</td>\n",
       "      <td>1338</td>\n",
       "      <td>1294</td>\n",
       "    </tr>\n",
       "    <tr>\n",
       "      <th>2</th>\n",
       "      <td>2019-08-03</td>\n",
       "      <td>24</td>\n",
       "      <td>112473</td>\n",
       "      <td>16</td>\n",
       "      <td>114248</td>\n",
       "      <td>68</td>\n",
       "      <td>354874</td>\n",
       "      <td>61</td>\n",
       "      <td>380996</td>\n",
       "      <td>507</td>\n",
       "      <td>509</td>\n",
       "      <td>1845</td>\n",
       "      <td>1803</td>\n",
       "    </tr>\n",
       "    <tr>\n",
       "      <th>3</th>\n",
       "      <td>2019-08-04</td>\n",
       "      <td>16</td>\n",
       "      <td>70825</td>\n",
       "      <td>17</td>\n",
       "      <td>108571</td>\n",
       "      <td>84</td>\n",
       "      <td>425699</td>\n",
       "      <td>78</td>\n",
       "      <td>489567</td>\n",
       "      <td>717</td>\n",
       "      <td>770</td>\n",
       "      <td>2562</td>\n",
       "      <td>2573</td>\n",
       "    </tr>\n",
       "    <tr>\n",
       "      <th>4</th>\n",
       "      <td>2019-08-05</td>\n",
       "      <td>25</td>\n",
       "      <td>124218</td>\n",
       "      <td>23</td>\n",
       "      <td>92428</td>\n",
       "      <td>109</td>\n",
       "      <td>549917</td>\n",
       "      <td>101</td>\n",
       "      <td>581995</td>\n",
       "      <td>756</td>\n",
       "      <td>707</td>\n",
       "      <td>3318</td>\n",
       "      <td>3280</td>\n",
       "    </tr>\n",
       "  </tbody>\n",
       "</table>\n",
       "</div>"
      ],
      "text/plain": [
       "        date  orders_per_dateA  revenue_per_dateA  orders_per_dateB  \\\n",
       "0 2019-08-01                24             148579                21   \n",
       "1 2019-08-02                20              93822                24   \n",
       "2 2019-08-03                24             112473                16   \n",
       "3 2019-08-04                16              70825                17   \n",
       "4 2019-08-05                25             124218                23   \n",
       "\n",
       "   revenue_per_dateB  orders_cummulativeA  revenue_cummulativeA  \\\n",
       "0             101217                   24                148579   \n",
       "1             165531                   44                242401   \n",
       "2             114248                   68                354874   \n",
       "3             108571                   84                425699   \n",
       "4              92428                  109                549917   \n",
       "\n",
       "   orders_cummulativeB  revenue_cummulativeB  visitors_per_dateA  \\\n",
       "0                   21                101217                 719   \n",
       "1                   45                266748                 619   \n",
       "2                   61                380996                 507   \n",
       "3                   78                489567                 717   \n",
       "4                  101                581995                 756   \n",
       "\n",
       "   visitors_per_dateB  visitors_cummulativeA  visitors_cummulativeB  \n",
       "0                 713                    719                    713  \n",
       "1                 581                   1338                   1294  \n",
       "2                 509                   1845                   1803  \n",
       "3                 770                   2562                   2573  \n",
       "4                 707                   3318                   3280  "
      ]
     },
     "execution_count": 31,
     "metadata": {},
     "output_type": "execute_result"
    }
   ],
   "source": [
    "# Подготовим данные\n",
    "visitorsA_daily = visitors[visitors['group'] == 'A'][['date', 'visitors']]\n",
    "visitorsA_daily.columns = ['date', 'visitors_per_dateA']\n",
    "\n",
    "visitorsA_cummulative = visitorsA_daily.apply(\n",
    "    lambda x: visitorsA_daily[visitorsA_daily['date'] <= x['date']].agg(\n",
    "        {'date' : 'max', 'visitors_per_dateA' : 'sum'}\n",
    "    ),\n",
    "    axis=1,\n",
    ")\n",
    "visitorsA_cummulative.columns = ['date', 'visitors_cummulativeA' ]\n",
    "\n",
    "visitorsB_daily = visitors[visitors['group'] == 'B'][['date', 'visitors']]\n",
    "visitorsB_daily.columns = ['date', 'visitors_per_dateB']\n",
    "\n",
    "visitorsB_cummulative = visitorsB_daily.apply(\n",
    "    lambda x: visitorsB_daily[visitorsB_daily['date'] <= x['date']].agg(\n",
    "        {'date' : 'max', 'visitors_per_dateB' : 'sum'}\n",
    "    ),\n",
    "    axis=1,\n",
    ")\n",
    "visitorsB_cummulative.columns = ['date', 'visitors_cummulativeB' ]\n",
    "\n",
    "ordersA_daily = (\n",
    "    orders[orders['group'] == 'A'][['date', 'transactionId', 'visitorId', 'revenue']]\n",
    "    .groupby('date', as_index=False)\n",
    "    .agg({'transactionId' : pd.Series.nunique, 'revenue' : 'sum'})\n",
    ")\n",
    "ordersA_daily.columns = ['date', 'orders_per_dateA', 'revenue_per_dateA']\n",
    "\n",
    "ordersA_cummulative = ordersA_daily.apply(\n",
    "    lambda x: ordersA_daily[ordersA_daily['date'] <= x['date']].agg(\n",
    "        {'date' : 'max', 'orders_per_dateA' : 'sum', 'revenue_per_dateA' : 'sum'}\n",
    "    ),\n",
    "    axis=1,\n",
    ").sort_values(by=['date'])\n",
    "ordersA_cummulative.columns = ['date', 'orders_cummulativeA', 'revenue_cummulativeA']\n",
    "\n",
    "ordersB_daily = (\n",
    "    orders[orders['group'] == 'B'][['date', 'transactionId', 'visitorId', 'revenue']]\n",
    "    .groupby('date', as_index=False)\n",
    "    .agg({'transactionId' : pd.Series.nunique, 'revenue' : 'sum'})\n",
    ")\n",
    "ordersB_daily.columns = ['date', 'orders_per_dateB', 'revenue_per_dateB']\n",
    "\n",
    "ordersB_cummulative = ordersB_daily.apply(\n",
    "    lambda x: ordersB_daily[ordersB_daily['date'] <= x['date']].agg(\n",
    "        {'date' : 'max', 'orders_per_dateB' : 'sum', 'revenue_per_dateB' : 'sum'}\n",
    "    ),\n",
    "    axis=1,\n",
    ").sort_values(by=['date'])\n",
    "ordersB_cummulative.columns = ['date', 'orders_cummulativeB', 'revenue_cummulativeB']\n",
    "\n",
    "data = (\n",
    "    ordersA_daily.merge(\n",
    "        ordersB_daily, left_on='date', right_on='date', how='left'\n",
    "    )\n",
    "    .merge(ordersA_cummulative, left_on='date', right_on='date', how='left')\n",
    "    .merge(ordersB_cummulative, left_on='date', right_on='date', how='left')\n",
    "    .merge(visitorsA_daily, left_on='date', right_on='date', how='left')\n",
    "    .merge(visitorsB_daily, left_on='date', right_on='date', how='left')\n",
    "    .merge(visitorsA_cummulative, left_on='date', right_on='date', how='left')\n",
    "    .merge(visitorsB_cummulative, left_on='date', right_on='date', how='left')\n",
    ")\n",
    "data.head()"
   ]
  },
  {
   "cell_type": "markdown",
   "metadata": {},
   "source": [
    "Описание:\n",
    "- date — дата;\n",
    "- orders_per_dateA — количество заказов в выбранную дату в группе A;\n",
    "- revenue_per_dateA — суммарная выручка в выбранную дату в группе A;\n",
    "- orders_per_dateB — количество заказов в выбранную дату в группе B;\n",
    "- revenue_per_dateB — суммарная выручка в выбранную дату в группе B;\n",
    "- orders_cummulativeA — суммарное число заказов до выбранной даты включительно в группе A;\n",
    "- revenue_cummulativeA — суммарная выручка до выбранной даты включительно в группе A;\n",
    "- orders_cummulativeB — суммарное количество заказов до выбранной даты включительно в группе B;\n",
    "- revenue_cummulativeB — суммарная выручка до выбранной даты включительно в группе B;\n",
    "- visitors_per_dateA — количество пользователей в выбранную дату в группе A;\n",
    "- visitors_per_dateB — количество пользователей в выбранную дату в группе B;\n",
    "- visitors_cummulativeA  — количество пользователей до выбранной даты включительно в группе A;\n",
    "- visitors_cummulativeB — количество пользователей до выбранной даты включительно в группе B. "
   ]
  },
  {
   "cell_type": "code",
   "execution_count": 32,
   "metadata": {},
   "outputs": [],
   "source": [
    "orders_by_usersA = (\n",
    "    orders[orders['group'] == 'A']\n",
    "    .groupby('visitorId', as_index=False)\n",
    "    .agg({'transactionId' : pd.Series.nunique})\n",
    ")\n",
    "orders_by_usersA.columns = ['userid', 'orders']\n",
    "\n",
    "orders_by_usersB = (\n",
    "    orders[orders['group'] == 'B']\n",
    "    .groupby('visitorId', as_index=False)\n",
    "    .agg({'transactionId' : pd.Series.nunique})\n",
    ")\n",
    "orders_by_usersB.columns = ['userid', 'orders']\n",
    "\n",
    "# объявим переменные в которых пользователям из разных груаа будет соответствовать количество заказов\n",
    "sampleA = pd.concat(\n",
    "    [orders_by_usersA['orders'], pd.Series(\n",
    "        0, index=np.arange(data['visitors_per_dateA'].sum() - len(orders_by_usersA['orders'])\n",
    "                          ), name='orders')], axis=0\n",
    ")\n",
    "\n",
    "sampleB = pd.concat(\n",
    "    [orders_by_usersB['orders'], pd.Series(\n",
    "        0, index=np.arange(data['visitors_per_dateB'].sum() - len(orders_by_usersB['orders'])\n",
    "                          ), name='orders')], axis=0\n",
    ")"
   ]
  },
  {
   "cell_type": "code",
   "execution_count": 33,
   "metadata": {},
   "outputs": [
    {
     "name": "stdout",
     "output_type": "stream",
     "text": [
      "p-value: 0.017\n",
      "Относительное различие: 0.138\n"
     ]
    }
   ],
   "source": [
    "print(f'p-value: {\"{0:.3f}\".format(stats.mannwhitneyu(sampleA, sampleB)[1])}') \n",
    "print(f'Относительное различие: {\"{0:.3f}\".format(sampleB.mean() / sampleA.mean() - 1)}')"
   ]
  },
  {
   "cell_type": "markdown",
   "metadata": {},
   "source": [
    "**p-value по \"сырым\" данным меньше 0.05. Нулевую гипотезу о том, что статистически значимых различий между группами нет - отвергаем. Анализ показывает, что в среднем количестве заказов между группами есть статистически значимые различия.\n",
    "Относительный прирост группы В равен 13.8%**"
   ]
  },
  {
   "cell_type": "markdown",
   "metadata": {},
   "source": [
    "#### Посчитаим статистическую значимость различий в среднем чеке заказа между группами по «сырым» данным"
   ]
  },
  {
   "cell_type": "markdown",
   "metadata": {},
   "source": [
    "**Сформируем гипотезы.**:\n",
    "- **Нулевая:** Различий в среднем чеке между группами нет. \n",
    "- **Альтернативная:** Различия в среднем чеке между группами есть.\n",
    "- **alpha=0.05**"
   ]
  },
  {
   "cell_type": "code",
   "execution_count": 34,
   "metadata": {},
   "outputs": [
    {
     "name": "stdout",
     "output_type": "stream",
     "text": [
      "p-value: 0.729\n",
      "Относительное различие: 0.259\n"
     ]
    }
   ],
   "source": [
    "print(f'p-value: {\"{0:.3f}\".format(stats.mannwhitneyu(orders[orders[\"group\"]==\"A\"][\"revenue\"], orders[orders[\"group\"]==\"B\"][\"revenue\"])[1])}')\n",
    "print(f'Относительное различие: {\"{0:.3f}\".format(orders[orders[\"group\"]==\"B\"][\"revenue\"].mean()/orders[orders[\"group\"]==\"A\"][\"revenue\"].mean() - 1)}')"
   ]
  },
  {
   "cell_type": "markdown",
   "metadata": {},
   "source": [
    "**p-value значительно больше 0.05. Значит нулевую гипотезу не отвергаем. Статистически значимых различий в среднем чеку между группами нет. Относительное различие между группами 25.9% - наблюдаемые различия не являются значимыми при таком уровне значимости, а следовательно были получены случайно**"
   ]
  },
  {
   "cell_type": "markdown",
   "metadata": {},
   "source": [
    "#### Посчитаим статистическую значимость различий в среднем количестве заказов на посетителя между группами по «очищенным» данным"
   ]
  },
  {
   "cell_type": "markdown",
   "metadata": {},
   "source": [
    "**Примем за аномальных пользователей тех, кто совершил от более 2 заказов или совершил заказ дороже 30 000. Таким образом мы уберем 5% пользователей с наибольшим числом заказов и 5% пользователей с дорогими заказами.**"
   ]
  },
  {
   "cell_type": "code",
   "execution_count": 35,
   "metadata": {},
   "outputs": [
    {
     "data": {
      "text/plain": [
       "74"
      ]
     },
     "execution_count": 35,
     "metadata": {},
     "output_type": "execute_result"
    }
   ],
   "source": [
    "users_with_manyorders = pd.concat(\n",
    "    [\n",
    "        orders_by_usersA[orders_by_usersA['orders'] > 2]['userid'],\n",
    "        orders_by_usersB[orders_by_usersB['orders'] > 2]['userid']\n",
    "    ],\n",
    "    axis=0,\n",
    ")\n",
    "users_with_expensivorders = orders[orders['revenue'] > 28000]['visitorId']\n",
    "abnormal_users = (\n",
    "    pd.concat([users_with_manyorders, users_with_expensivorders], axis=0)\n",
    "    .drop_duplicates()\n",
    "    .sort_values()\n",
    ")\n",
    "abnormal_users.shape[0]"
   ]
  },
  {
   "cell_type": "code",
   "execution_count": 36,
   "metadata": {},
   "outputs": [],
   "source": [
    "sampleA_filtered = pd.concat(\n",
    "    [\n",
    "        orders_by_usersA[\n",
    "            np.logical_not(orders_by_usersA['userid'].isin(abnormal_users))\n",
    "        ]['orders'],\n",
    "        pd.Series(\n",
    "            0,\n",
    "            index=np.arange(\n",
    "                data['visitors_per_dateA'].sum() - len(orders_by_usersA['orders'])\n",
    "            ),\n",
    "            name='orders',\n",
    "        ),\n",
    "    ],\n",
    "    axis=0,\n",
    ")\n",
    "\n",
    "sampleB_filtered = pd.concat(\n",
    "    [\n",
    "        orders_by_usersB[\n",
    "            np.logical_not(orders_by_usersB['userid'].isin(abnormal_users))\n",
    "        ]['orders'],\n",
    "        pd.Series(\n",
    "            0,\n",
    "            index=np.arange(\n",
    "                data['visitors_per_dateB'].sum() - len(orders_by_usersB['orders'])\n",
    "            ),\n",
    "            name='orders',\n",
    "        ),\n",
    "    ],\n",
    "    axis=0,\n",
    ")"
   ]
  },
  {
   "cell_type": "code",
   "execution_count": 37,
   "metadata": {},
   "outputs": [
    {
     "data": {
      "text/plain": [
       "'0.013'"
      ]
     },
     "metadata": {},
     "output_type": "display_data"
    },
    {
     "data": {
      "text/plain": [
       "'0.173'"
      ]
     },
     "metadata": {},
     "output_type": "display_data"
    }
   ],
   "source": [
    "# применим статистический критерий Манна-Уитни к полученным выборкам\n",
    "display(\n",
    "    '{0:.3f}'.format(stats.mannwhitneyu(sampleA_filtered, sampleB_filtered)[1]),\n",
    "    '{0:.3f}'.format(sampleB_filtered.mean()/sampleA_filtered.mean()-1)\n",
    ")"
   ]
  },
  {
   "cell_type": "markdown",
   "metadata": {},
   "source": [
    "**Как в случае и с сырыми данными есть статистистически значимые различия между группами**"
   ]
  },
  {
   "cell_type": "markdown",
   "metadata": {},
   "source": [
    "#### Посчитаим статистическую значимость различий в среднем чеке заказа между группами по «очищенным» данным"
   ]
  },
  {
   "cell_type": "code",
   "execution_count": 38,
   "metadata": {},
   "outputs": [
    {
     "data": {
      "text/plain": [
       "'0.738'"
      ]
     },
     "metadata": {},
     "output_type": "display_data"
    },
    {
     "data": {
      "text/plain": [
       "'-0.020'"
      ]
     },
     "metadata": {},
     "output_type": "display_data"
    }
   ],
   "source": [
    "display(\n",
    "    '{0:.3f}'.format(\n",
    "        stats.mannwhitneyu(\n",
    "            orders[\n",
    "                np.logical_and(\n",
    "                    orders['group'] == 'A',\n",
    "                    np.logical_not(orders['visitorId'].isin(abnormal_users)),\n",
    "                )\n",
    "            ]['revenue'],\n",
    "            orders[\n",
    "                np.logical_and(\n",
    "                    orders['group'] == 'B',\n",
    "                    np.logical_not(orders['visitorId'].isin(abnormal_users)),\n",
    "                )\n",
    "            ]['revenue'],\n",
    "        )[1]\n",
    "    ),\n",
    "\n",
    "    \"{0:.3f}\".format(\n",
    "        orders[\n",
    "            np.logical_and(\n",
    "                orders['group'] == 'B',\n",
    "                np.logical_not(orders['visitorId'].isin(abnormal_users)),\n",
    "            )\n",
    "        ]['revenue'].mean()\n",
    "        / orders[\n",
    "            np.logical_and(\n",
    "                orders['group'] == 'A',\n",
    "                np.logical_not(orders['visitorId'].isin(abnormal_users)),\n",
    "            )\n",
    "        ]['revenue'].mean()\n",
    "        - 1\n",
    "    )\n",
    ")"
   ]
  },
  {
   "cell_type": "markdown",
   "metadata": {},
   "source": [
    "**p-value практически не изменилось. Но разница между сегментами уменьшилась. Средний чек группы В ниже среднего чека группы А. Разница 2%**  "
   ]
  },
  {
   "cell_type": "markdown",
   "metadata": {},
   "source": [
    "#### Примем решение по результатам теста:"
   ]
  },
  {
   "cell_type": "markdown",
   "metadata": {},
   "source": [
    "**Принимаем решение остановить тест. Так как группа В статистически значимо лучше группы А по метреке конверсии. Статистической значимости по среднему чеку обнаружить не удалось. Так как конечная цель является увелечение прибыли, то отделу маркетинга необходимо ориентироваться на данный тест в рамках лучшей конверсии в группе В и исходя из этого создавать соответствующе маркетинговые продукты.**"
   ]
  },
  {
   "cell_type": "markdown",
   "metadata": {},
   "source": [
    "### Общий вывод:\n",
    "1. Изучили предоставленные данне. Ознакомились с наименованиями столбцов, типами данных, и др. Проверили на пропуски и дубликаты;\n",
    "2. Провели приоритизацию гипотез методами ICE и RICE;\n",
    "3. Построили график кумулятивной выручки по группам - Выяснили, что выручка в группе А увеличивается равномерно, а в группе В выручка тоже растет, но виден явный скачок.\n",
    "4. Построили график кумулятивного среднего чека по группам - Выяснили, что колебания кумулятивного значения среднего чека в группе A во второй половине теста снижаются и становится более равномерным, а у группы В постоянные колебания м виден резкий скаячок;\n",
    "5. Построили график относительного изменения кумулятивного среднего чека группы B к группе A - Обнаружили значительные колебания в графике.\n",
    "6. Построили точечный график количества заказов по пользователям - Выяснили, что много пользователей с 1-2 заказами;\n",
    "7. Посчитали 95-й и 99-й перцентили количества заказов на пользователя - Определили аномальных пользователей, это пользователи совершившие более 2 заказов;\n",
    "8. Построили точечный график стоимостей заказов - Обнаружили несколько выбросов;\n",
    "9. Посчитали 95-й и 99-й перцентили стоимости заказов - Приняли решение аномальными считать заказы дороже 28 000;\n",
    "10. Посчитали статистическую значимость различий в среднем количестве заказов на посетителя между группами по «сырым» данным - Выяснили, что p-value по \"сырым\" данным меньше 0.05. Значит между группами есть статистически значимые различия;\n",
    "11. Посчитали статистическую значимость различий в среднем чеке заказа между группами по «сырым» данным - Выяснили, что p-value значительно больше 0.05. Значит статистически значимых различий в среднем чеку между группами нет. Относительное различие между группами 25.9%;\n",
    "12. Посчитали статистическую значимость различий в среднем количестве заказов на посетителя между группами по «очищенным» данным - Выяснили что, как и в случае с сырыми данными есть статистистически значимые различия между группами;\n",
    "13. Посчитали статистическую значимость различий в среднем чеке заказа между группами по «очищенным» данным - Выяснили, что p-value практически не изменилось по сравнению с не очищенными данными. Но разница между сегментами уменьшилась. Средний чек группы В ниже среднего чека группы А;\n",
    "14. По результатам теста приняли решение остановить тест. Так как группа В статистически значимо лучше группы А по метреке конверсии. Статистической значимости по среднему чеку обнаружить не удалось. Так как конечная цель является увелечение прибыли, то отделу маркетинга необходимо ориентироваться на данный тест в рамках лучшей конверсии в группе В и исходя из этого создавать соответствующе маркетинговые продукты."
   ]
  }
 ],
 "metadata": {
  "ExecuteTimeLog": [
   {
    "duration": 1358,
    "start_time": "2023-01-04T12:51:10.612Z"
   },
   {
    "duration": 264,
    "start_time": "2023-01-04T13:02:20.773Z"
   },
   {
    "duration": 3,
    "start_time": "2023-01-04T13:02:27.545Z"
   },
   {
    "duration": 100,
    "start_time": "2023-01-04T13:02:28.851Z"
   },
   {
    "duration": 168,
    "start_time": "2023-01-04T13:07:00.684Z"
   },
   {
    "duration": 72,
    "start_time": "2023-01-04T13:07:11.464Z"
   },
   {
    "duration": 78,
    "start_time": "2023-01-04T13:08:18.788Z"
   },
   {
    "duration": 115,
    "start_time": "2023-01-04T13:12:58.170Z"
   },
   {
    "duration": 33,
    "start_time": "2023-01-04T13:13:22.200Z"
   },
   {
    "duration": 37,
    "start_time": "2023-01-04T13:17:56.319Z"
   },
   {
    "duration": 17,
    "start_time": "2023-01-04T13:22:51.658Z"
   },
   {
    "duration": 47,
    "start_time": "2023-01-04T16:40:05.203Z"
   },
   {
    "duration": 1315,
    "start_time": "2023-01-04T16:40:09.481Z"
   },
   {
    "duration": 202,
    "start_time": "2023-01-04T16:40:10.798Z"
   },
   {
    "duration": 21,
    "start_time": "2023-01-04T16:40:11.002Z"
   },
   {
    "duration": 17,
    "start_time": "2023-01-04T16:40:11.024Z"
   },
   {
    "duration": 47,
    "start_time": "2023-01-04T16:40:11.043Z"
   },
   {
    "duration": 0,
    "start_time": "2023-01-04T16:40:11.091Z"
   },
   {
    "duration": 0,
    "start_time": "2023-01-04T16:40:11.092Z"
   },
   {
    "duration": 0,
    "start_time": "2023-01-04T16:40:11.093Z"
   },
   {
    "duration": 0,
    "start_time": "2023-01-04T16:40:11.094Z"
   },
   {
    "duration": 0,
    "start_time": "2023-01-04T16:40:11.095Z"
   },
   {
    "duration": 0,
    "start_time": "2023-01-04T16:40:11.096Z"
   },
   {
    "duration": 0,
    "start_time": "2023-01-04T16:40:11.097Z"
   },
   {
    "duration": 17,
    "start_time": "2023-01-04T16:41:07.388Z"
   },
   {
    "duration": 51,
    "start_time": "2023-01-04T16:45:54.661Z"
   },
   {
    "duration": 12,
    "start_time": "2023-01-04T16:48:51.441Z"
   },
   {
    "duration": 12,
    "start_time": "2023-01-04T16:50:56.201Z"
   },
   {
    "duration": 17,
    "start_time": "2023-01-04T16:50:58.067Z"
   },
   {
    "duration": 12,
    "start_time": "2023-01-04T16:51:04.773Z"
   },
   {
    "duration": 21,
    "start_time": "2023-01-04T16:52:59.083Z"
   },
   {
    "duration": 27,
    "start_time": "2023-01-04T16:53:11.015Z"
   },
   {
    "duration": 72,
    "start_time": "2023-01-04T16:55:25.493Z"
   },
   {
    "duration": 11,
    "start_time": "2023-01-04T16:55:40.696Z"
   },
   {
    "duration": 8,
    "start_time": "2023-01-04T17:09:38.935Z"
   },
   {
    "duration": 2,
    "start_time": "2023-01-04T17:09:43.183Z"
   },
   {
    "duration": 47,
    "start_time": "2023-01-04T17:09:43.847Z"
   },
   {
    "duration": 9,
    "start_time": "2023-01-04T17:09:44.715Z"
   },
   {
    "duration": 4,
    "start_time": "2023-01-04T17:09:45.318Z"
   },
   {
    "duration": 4,
    "start_time": "2023-01-04T17:09:53.695Z"
   },
   {
    "duration": 8,
    "start_time": "2023-01-04T17:10:02.410Z"
   },
   {
    "duration": 9,
    "start_time": "2023-01-04T17:10:44.119Z"
   },
   {
    "duration": 13,
    "start_time": "2023-01-04T17:11:02.377Z"
   },
   {
    "duration": 14,
    "start_time": "2023-01-04T17:11:29.175Z"
   },
   {
    "duration": 9,
    "start_time": "2023-01-04T17:11:37.833Z"
   },
   {
    "duration": 43,
    "start_time": "2023-01-04T17:20:44.580Z"
   },
   {
    "duration": 52,
    "start_time": "2023-01-04T17:21:06.144Z"
   },
   {
    "duration": 9,
    "start_time": "2023-01-04T17:21:09.619Z"
   },
   {
    "duration": 46,
    "start_time": "2023-01-04T17:21:10.583Z"
   },
   {
    "duration": 45,
    "start_time": "2023-01-04T17:21:28.031Z"
   },
   {
    "duration": 54,
    "start_time": "2023-01-04T17:21:29.259Z"
   },
   {
    "duration": 11,
    "start_time": "2023-01-04T17:21:46.257Z"
   },
   {
    "duration": 78,
    "start_time": "2023-01-04T17:22:25.587Z"
   },
   {
    "duration": 4,
    "start_time": "2023-01-04T17:23:42.387Z"
   },
   {
    "duration": 83,
    "start_time": "2023-01-04T17:23:44.122Z"
   },
   {
    "duration": 15,
    "start_time": "2023-01-04T17:23:54.338Z"
   },
   {
    "duration": 17,
    "start_time": "2023-01-04T17:23:56.729Z"
   },
   {
    "duration": 15,
    "start_time": "2023-01-04T17:23:58.744Z"
   },
   {
    "duration": 29,
    "start_time": "2023-01-04T17:24:00.742Z"
   },
   {
    "duration": 26,
    "start_time": "2023-01-04T17:24:05.661Z"
   },
   {
    "duration": 10,
    "start_time": "2023-01-04T17:24:07.285Z"
   },
   {
    "duration": 11,
    "start_time": "2023-01-04T17:24:08.322Z"
   },
   {
    "duration": 11,
    "start_time": "2023-01-04T17:24:12.088Z"
   },
   {
    "duration": 11,
    "start_time": "2023-01-04T17:24:13.403Z"
   },
   {
    "duration": 53,
    "start_time": "2023-01-04T17:24:20.436Z"
   },
   {
    "duration": 41,
    "start_time": "2023-01-04T17:24:21.403Z"
   },
   {
    "duration": 47,
    "start_time": "2023-01-04T17:24:31.065Z"
   },
   {
    "duration": 5,
    "start_time": "2023-01-04T17:25:01.074Z"
   },
   {
    "duration": 46,
    "start_time": "2023-01-04T17:25:06.518Z"
   },
   {
    "duration": 54,
    "start_time": "2023-01-04T17:25:10.011Z"
   },
   {
    "duration": 192,
    "start_time": "2023-01-04T17:25:38.115Z"
   },
   {
    "duration": 207,
    "start_time": "2023-01-04T17:26:07.443Z"
   },
   {
    "duration": 215,
    "start_time": "2023-01-04T17:26:16.735Z"
   },
   {
    "duration": 1081,
    "start_time": "2023-01-04T17:26:36.103Z"
   },
   {
    "duration": 81,
    "start_time": "2023-01-04T17:26:37.186Z"
   },
   {
    "duration": 23,
    "start_time": "2023-01-04T17:26:37.269Z"
   },
   {
    "duration": 18,
    "start_time": "2023-01-04T17:26:37.295Z"
   },
   {
    "duration": 16,
    "start_time": "2023-01-04T17:26:37.315Z"
   },
   {
    "duration": 99,
    "start_time": "2023-01-04T17:26:37.333Z"
   },
   {
    "duration": 9,
    "start_time": "2023-01-04T17:26:37.434Z"
   },
   {
    "duration": 5,
    "start_time": "2023-01-04T17:26:37.445Z"
   },
   {
    "duration": 297,
    "start_time": "2023-01-04T17:26:37.451Z"
   },
   {
    "duration": 0,
    "start_time": "2023-01-04T17:26:37.749Z"
   },
   {
    "duration": 0,
    "start_time": "2023-01-04T17:26:37.751Z"
   },
   {
    "duration": 0,
    "start_time": "2023-01-04T17:26:37.752Z"
   },
   {
    "duration": 0,
    "start_time": "2023-01-04T17:26:37.753Z"
   },
   {
    "duration": 0,
    "start_time": "2023-01-04T17:26:37.754Z"
   },
   {
    "duration": 0,
    "start_time": "2023-01-04T17:26:37.755Z"
   },
   {
    "duration": 0,
    "start_time": "2023-01-04T17:26:37.756Z"
   },
   {
    "duration": 0,
    "start_time": "2023-01-04T17:26:37.757Z"
   },
   {
    "duration": 0,
    "start_time": "2023-01-04T17:26:37.758Z"
   },
   {
    "duration": 229,
    "start_time": "2023-01-04T17:26:46.406Z"
   },
   {
    "duration": 3,
    "start_time": "2023-01-04T17:33:20.893Z"
   },
   {
    "duration": 231,
    "start_time": "2023-01-04T17:33:29.689Z"
   },
   {
    "duration": 194,
    "start_time": "2023-01-04T17:33:30.723Z"
   },
   {
    "duration": 46,
    "start_time": "2023-01-04T17:33:42.109Z"
   },
   {
    "duration": 12,
    "start_time": "2023-01-04T17:33:54.956Z"
   },
   {
    "duration": 80,
    "start_time": "2023-01-04T17:34:29.602Z"
   },
   {
    "duration": 17,
    "start_time": "2023-01-04T17:34:29.997Z"
   },
   {
    "duration": 19,
    "start_time": "2023-01-04T17:34:30.601Z"
   },
   {
    "duration": 18,
    "start_time": "2023-01-04T17:34:31.179Z"
   },
   {
    "duration": 29,
    "start_time": "2023-01-04T17:34:31.747Z"
   },
   {
    "duration": 12,
    "start_time": "2023-01-04T17:34:32.145Z"
   },
   {
    "duration": 4,
    "start_time": "2023-01-04T17:34:32.549Z"
   },
   {
    "duration": 11,
    "start_time": "2023-01-04T17:34:32.779Z"
   },
   {
    "duration": 184,
    "start_time": "2023-01-04T17:34:39.807Z"
   },
   {
    "duration": 195,
    "start_time": "2023-01-04T17:34:59.700Z"
   },
   {
    "duration": 204,
    "start_time": "2023-01-04T17:35:00.186Z"
   },
   {
    "duration": 199,
    "start_time": "2023-01-04T17:35:07.800Z"
   },
   {
    "duration": 232,
    "start_time": "2023-01-04T17:35:09.088Z"
   },
   {
    "duration": 56,
    "start_time": "2023-01-04T17:35:47.568Z"
   },
   {
    "duration": 258,
    "start_time": "2023-01-04T17:35:53.162Z"
   },
   {
    "duration": 246,
    "start_time": "2023-01-04T18:10:01.552Z"
   },
   {
    "duration": 213,
    "start_time": "2023-01-04T18:10:18.039Z"
   },
   {
    "duration": 209,
    "start_time": "2023-01-04T18:11:21.069Z"
   },
   {
    "duration": 1142,
    "start_time": "2023-01-04T18:12:05.106Z"
   },
   {
    "duration": 79,
    "start_time": "2023-01-04T18:12:06.250Z"
   },
   {
    "duration": 20,
    "start_time": "2023-01-04T18:12:06.331Z"
   },
   {
    "duration": 16,
    "start_time": "2023-01-04T18:12:06.353Z"
   },
   {
    "duration": 31,
    "start_time": "2023-01-04T18:12:06.370Z"
   },
   {
    "duration": 71,
    "start_time": "2023-01-04T18:12:06.402Z"
   },
   {
    "duration": 12,
    "start_time": "2023-01-04T18:12:06.474Z"
   },
   {
    "duration": 52,
    "start_time": "2023-01-04T18:12:06.488Z"
   },
   {
    "duration": 0,
    "start_time": "2023-01-04T18:12:06.542Z"
   },
   {
    "duration": 0,
    "start_time": "2023-01-04T18:12:06.543Z"
   },
   {
    "duration": 0,
    "start_time": "2023-01-04T18:12:06.544Z"
   },
   {
    "duration": 0,
    "start_time": "2023-01-04T18:12:06.545Z"
   },
   {
    "duration": 0,
    "start_time": "2023-01-04T18:12:06.546Z"
   },
   {
    "duration": 0,
    "start_time": "2023-01-04T18:12:06.547Z"
   },
   {
    "duration": 0,
    "start_time": "2023-01-04T18:12:06.549Z"
   },
   {
    "duration": 310,
    "start_time": "2023-01-04T18:12:29.556Z"
   },
   {
    "duration": 211,
    "start_time": "2023-01-04T18:12:55.872Z"
   },
   {
    "duration": 1192,
    "start_time": "2023-01-04T18:13:09.981Z"
   },
   {
    "duration": 81,
    "start_time": "2023-01-04T18:13:11.175Z"
   },
   {
    "duration": 20,
    "start_time": "2023-01-04T18:13:11.258Z"
   },
   {
    "duration": 17,
    "start_time": "2023-01-04T18:13:11.280Z"
   },
   {
    "duration": 15,
    "start_time": "2023-01-04T18:13:11.298Z"
   },
   {
    "duration": 92,
    "start_time": "2023-01-04T18:13:11.315Z"
   },
   {
    "duration": 9,
    "start_time": "2023-01-04T18:13:11.408Z"
   },
   {
    "duration": 313,
    "start_time": "2023-01-04T18:13:11.419Z"
   },
   {
    "duration": 0,
    "start_time": "2023-01-04T18:13:11.734Z"
   },
   {
    "duration": 0,
    "start_time": "2023-01-04T18:13:11.735Z"
   },
   {
    "duration": 0,
    "start_time": "2023-01-04T18:13:11.736Z"
   },
   {
    "duration": 0,
    "start_time": "2023-01-04T18:13:11.738Z"
   },
   {
    "duration": 0,
    "start_time": "2023-01-04T18:13:11.739Z"
   },
   {
    "duration": 0,
    "start_time": "2023-01-04T18:13:11.740Z"
   },
   {
    "duration": 0,
    "start_time": "2023-01-04T18:13:11.741Z"
   },
   {
    "duration": 11,
    "start_time": "2023-01-04T18:13:39.516Z"
   },
   {
    "duration": 177,
    "start_time": "2023-01-04T18:13:45.484Z"
   },
   {
    "duration": 238,
    "start_time": "2023-01-04T18:13:58.240Z"
   },
   {
    "duration": 1196,
    "start_time": "2023-01-04T18:14:18.108Z"
   },
   {
    "duration": 80,
    "start_time": "2023-01-04T18:14:19.306Z"
   },
   {
    "duration": 28,
    "start_time": "2023-01-04T18:14:19.388Z"
   },
   {
    "duration": 17,
    "start_time": "2023-01-04T18:14:19.419Z"
   },
   {
    "duration": 19,
    "start_time": "2023-01-04T18:14:19.438Z"
   },
   {
    "duration": 85,
    "start_time": "2023-01-04T18:14:19.458Z"
   },
   {
    "duration": 9,
    "start_time": "2023-01-04T18:14:19.545Z"
   },
   {
    "duration": 57,
    "start_time": "2023-01-04T18:14:19.578Z"
   },
   {
    "duration": 0,
    "start_time": "2023-01-04T18:14:19.637Z"
   },
   {
    "duration": 0,
    "start_time": "2023-01-04T18:14:19.638Z"
   },
   {
    "duration": 0,
    "start_time": "2023-01-04T18:14:19.639Z"
   },
   {
    "duration": 0,
    "start_time": "2023-01-04T18:14:19.641Z"
   },
   {
    "duration": 0,
    "start_time": "2023-01-04T18:14:19.642Z"
   },
   {
    "duration": 0,
    "start_time": "2023-01-04T18:14:19.643Z"
   },
   {
    "duration": 13,
    "start_time": "2023-01-04T18:14:57.630Z"
   },
   {
    "duration": 97,
    "start_time": "2023-01-04T18:17:04.553Z"
   },
   {
    "duration": 11,
    "start_time": "2023-01-04T18:17:13.564Z"
   },
   {
    "duration": 230,
    "start_time": "2023-01-04T18:17:45.000Z"
   },
   {
    "duration": 11,
    "start_time": "2023-01-04T18:17:46.567Z"
   },
   {
    "duration": 1119,
    "start_time": "2023-01-04T18:17:55.005Z"
   },
   {
    "duration": 79,
    "start_time": "2023-01-04T18:17:56.126Z"
   },
   {
    "duration": 23,
    "start_time": "2023-01-04T18:17:56.206Z"
   },
   {
    "duration": 15,
    "start_time": "2023-01-04T18:17:56.231Z"
   },
   {
    "duration": 18,
    "start_time": "2023-01-04T18:17:56.248Z"
   },
   {
    "duration": 63,
    "start_time": "2023-01-04T18:17:56.267Z"
   },
   {
    "duration": 10,
    "start_time": "2023-01-04T18:17:56.331Z"
   },
   {
    "duration": 13,
    "start_time": "2023-01-04T18:17:56.342Z"
   },
   {
    "duration": 28,
    "start_time": "2023-01-04T18:17:56.357Z"
   },
   {
    "duration": 56,
    "start_time": "2023-01-04T18:17:56.388Z"
   },
   {
    "duration": 0,
    "start_time": "2023-01-04T18:17:56.445Z"
   },
   {
    "duration": 0,
    "start_time": "2023-01-04T18:17:56.446Z"
   },
   {
    "duration": 0,
    "start_time": "2023-01-04T18:17:56.447Z"
   },
   {
    "duration": 0,
    "start_time": "2023-01-04T18:17:56.448Z"
   },
   {
    "duration": 0,
    "start_time": "2023-01-04T18:17:56.449Z"
   },
   {
    "duration": 0,
    "start_time": "2023-01-04T18:17:56.450Z"
   },
   {
    "duration": 805,
    "start_time": "2023-01-04T18:36:39.520Z"
   },
   {
    "duration": 3,
    "start_time": "2023-01-04T18:37:52.092Z"
   },
   {
    "duration": 29,
    "start_time": "2023-01-04T18:37:54.516Z"
   },
   {
    "duration": 12,
    "start_time": "2023-01-04T18:37:55.520Z"
   },
   {
    "duration": 195,
    "start_time": "2023-01-04T18:37:56.556Z"
   },
   {
    "duration": 13,
    "start_time": "2023-01-04T18:38:02.357Z"
   },
   {
    "duration": 12,
    "start_time": "2023-01-04T18:42:13.359Z"
   },
   {
    "duration": 1375,
    "start_time": "2023-01-08T17:18:02.739Z"
   },
   {
    "duration": 229,
    "start_time": "2023-01-08T17:18:04.116Z"
   },
   {
    "duration": 21,
    "start_time": "2023-01-08T17:18:04.346Z"
   },
   {
    "duration": 59,
    "start_time": "2023-01-08T17:18:04.369Z"
   },
   {
    "duration": 24,
    "start_time": "2023-01-08T17:18:04.429Z"
   },
   {
    "duration": 4,
    "start_time": "2023-01-08T17:18:04.454Z"
   },
   {
    "duration": 77,
    "start_time": "2023-01-08T17:18:04.460Z"
   },
   {
    "duration": 10,
    "start_time": "2023-01-08T17:18:04.538Z"
   },
   {
    "duration": 32,
    "start_time": "2023-01-08T17:18:04.549Z"
   },
   {
    "duration": 16,
    "start_time": "2023-01-08T17:18:04.584Z"
   },
   {
    "duration": 10,
    "start_time": "2023-01-08T17:18:04.605Z"
   },
   {
    "duration": 41,
    "start_time": "2023-01-08T17:18:04.616Z"
   },
   {
    "duration": 0,
    "start_time": "2023-01-08T17:18:04.658Z"
   },
   {
    "duration": 0,
    "start_time": "2023-01-08T17:18:04.659Z"
   },
   {
    "duration": 0,
    "start_time": "2023-01-08T17:18:04.661Z"
   },
   {
    "duration": 0,
    "start_time": "2023-01-08T17:18:04.662Z"
   },
   {
    "duration": 0,
    "start_time": "2023-01-08T17:18:04.663Z"
   },
   {
    "duration": 0,
    "start_time": "2023-01-08T17:18:04.664Z"
   },
   {
    "duration": 98,
    "start_time": "2023-01-08T17:55:55.870Z"
   },
   {
    "duration": 5,
    "start_time": "2023-01-08T17:56:22.528Z"
   },
   {
    "duration": 8,
    "start_time": "2023-01-08T17:56:30.117Z"
   },
   {
    "duration": 7,
    "start_time": "2023-01-08T17:57:12.705Z"
   },
   {
    "duration": 6,
    "start_time": "2023-01-08T17:57:22.557Z"
   },
   {
    "duration": 6,
    "start_time": "2023-01-08T18:03:48.122Z"
   },
   {
    "duration": 4,
    "start_time": "2023-01-08T18:04:18.880Z"
   },
   {
    "duration": 10,
    "start_time": "2023-01-08T18:04:33.129Z"
   },
   {
    "duration": 11,
    "start_time": "2023-01-08T18:04:41.890Z"
   },
   {
    "duration": 4,
    "start_time": "2023-01-08T18:04:52.481Z"
   },
   {
    "duration": 1084,
    "start_time": "2023-01-08T18:04:58.380Z"
   },
   {
    "duration": 85,
    "start_time": "2023-01-08T18:04:59.466Z"
   },
   {
    "duration": 28,
    "start_time": "2023-01-08T18:04:59.554Z"
   },
   {
    "duration": 19,
    "start_time": "2023-01-08T18:04:59.585Z"
   },
   {
    "duration": 36,
    "start_time": "2023-01-08T18:04:59.605Z"
   },
   {
    "duration": 17,
    "start_time": "2023-01-08T18:04:59.643Z"
   },
   {
    "duration": 106,
    "start_time": "2023-01-08T18:04:59.662Z"
   },
   {
    "duration": 15,
    "start_time": "2023-01-08T18:04:59.769Z"
   },
   {
    "duration": 33,
    "start_time": "2023-01-08T18:04:59.786Z"
   },
   {
    "duration": 46,
    "start_time": "2023-01-08T18:04:59.822Z"
   },
   {
    "duration": 25,
    "start_time": "2023-01-08T18:04:59.870Z"
   },
   {
    "duration": 19,
    "start_time": "2023-01-08T18:04:59.897Z"
   },
   {
    "duration": 44,
    "start_time": "2023-01-08T18:04:59.918Z"
   },
   {
    "duration": 71,
    "start_time": "2023-01-08T18:04:59.964Z"
   },
   {
    "duration": 0,
    "start_time": "2023-01-08T18:05:00.037Z"
   },
   {
    "duration": 0,
    "start_time": "2023-01-08T18:05:00.039Z"
   },
   {
    "duration": 0,
    "start_time": "2023-01-08T18:05:00.041Z"
   },
   {
    "duration": 0,
    "start_time": "2023-01-08T18:05:00.042Z"
   },
   {
    "duration": 0,
    "start_time": "2023-01-08T18:05:00.044Z"
   },
   {
    "duration": 0,
    "start_time": "2023-01-08T18:05:00.045Z"
   },
   {
    "duration": 8,
    "start_time": "2023-01-08T18:05:22.117Z"
   },
   {
    "duration": 12,
    "start_time": "2023-01-08T18:05:30.429Z"
   },
   {
    "duration": 4,
    "start_time": "2023-01-08T18:14:08.696Z"
   },
   {
    "duration": 5,
    "start_time": "2023-01-08T18:14:20.300Z"
   },
   {
    "duration": 6,
    "start_time": "2023-01-08T18:15:10.622Z"
   },
   {
    "duration": 7,
    "start_time": "2023-01-08T18:15:19.485Z"
   },
   {
    "duration": 4,
    "start_time": "2023-01-08T18:16:21.692Z"
   },
   {
    "duration": 4,
    "start_time": "2023-01-08T18:29:45.586Z"
   },
   {
    "duration": 133,
    "start_time": "2023-01-08T19:10:35.555Z"
   },
   {
    "duration": 1050,
    "start_time": "2023-01-08T19:10:51.015Z"
   },
   {
    "duration": 83,
    "start_time": "2023-01-08T19:10:52.067Z"
   },
   {
    "duration": 20,
    "start_time": "2023-01-08T19:10:52.152Z"
   },
   {
    "duration": 16,
    "start_time": "2023-01-08T19:10:52.173Z"
   },
   {
    "duration": 14,
    "start_time": "2023-01-08T19:10:52.192Z"
   },
   {
    "duration": 3,
    "start_time": "2023-01-08T19:10:52.208Z"
   },
   {
    "duration": 85,
    "start_time": "2023-01-08T19:10:52.213Z"
   },
   {
    "duration": 9,
    "start_time": "2023-01-08T19:10:52.300Z"
   },
   {
    "duration": 31,
    "start_time": "2023-01-08T19:10:52.311Z"
   },
   {
    "duration": 16,
    "start_time": "2023-01-08T19:10:52.343Z"
   },
   {
    "duration": 19,
    "start_time": "2023-01-08T19:10:52.360Z"
   },
   {
    "duration": 5,
    "start_time": "2023-01-08T19:10:52.380Z"
   },
   {
    "duration": 11,
    "start_time": "2023-01-08T19:10:52.387Z"
   },
   {
    "duration": 126,
    "start_time": "2023-01-08T19:10:52.401Z"
   },
   {
    "duration": 0,
    "start_time": "2023-01-08T19:10:52.529Z"
   },
   {
    "duration": 0,
    "start_time": "2023-01-08T19:10:52.530Z"
   },
   {
    "duration": 0,
    "start_time": "2023-01-08T19:10:52.532Z"
   },
   {
    "duration": 0,
    "start_time": "2023-01-08T19:10:52.533Z"
   },
   {
    "duration": 0,
    "start_time": "2023-01-08T19:10:52.534Z"
   },
   {
    "duration": 0,
    "start_time": "2023-01-08T19:10:52.536Z"
   },
   {
    "duration": 0,
    "start_time": "2023-01-08T19:10:52.537Z"
   },
   {
    "duration": 0,
    "start_time": "2023-01-08T19:10:52.538Z"
   },
   {
    "duration": 0,
    "start_time": "2023-01-08T19:10:52.540Z"
   },
   {
    "duration": 10,
    "start_time": "2023-01-08T19:11:15.860Z"
   },
   {
    "duration": 150,
    "start_time": "2023-01-08T19:11:58.847Z"
   },
   {
    "duration": 158,
    "start_time": "2023-01-08T19:15:17.460Z"
   },
   {
    "duration": 52,
    "start_time": "2023-01-08T19:15:44.965Z"
   },
   {
    "duration": 42,
    "start_time": "2023-01-08T19:15:54.568Z"
   },
   {
    "duration": 160,
    "start_time": "2023-01-08T19:16:10.022Z"
   },
   {
    "duration": 57,
    "start_time": "2023-01-09T07:19:52.824Z"
   },
   {
    "duration": 1435,
    "start_time": "2023-01-09T07:19:56.769Z"
   },
   {
    "duration": 182,
    "start_time": "2023-01-09T07:19:58.206Z"
   },
   {
    "duration": 19,
    "start_time": "2023-01-09T07:19:58.390Z"
   },
   {
    "duration": 16,
    "start_time": "2023-01-09T07:19:58.411Z"
   },
   {
    "duration": 17,
    "start_time": "2023-01-09T07:19:58.429Z"
   },
   {
    "duration": 30,
    "start_time": "2023-01-09T07:19:58.448Z"
   },
   {
    "duration": 68,
    "start_time": "2023-01-09T07:19:58.480Z"
   },
   {
    "duration": 30,
    "start_time": "2023-01-09T07:19:58.549Z"
   },
   {
    "duration": 12,
    "start_time": "2023-01-09T07:19:58.581Z"
   },
   {
    "duration": 13,
    "start_time": "2023-01-09T07:19:58.595Z"
   },
   {
    "duration": 11,
    "start_time": "2023-01-09T07:19:58.610Z"
   },
   {
    "duration": 7,
    "start_time": "2023-01-09T07:19:58.623Z"
   },
   {
    "duration": 48,
    "start_time": "2023-01-09T07:19:58.632Z"
   },
   {
    "duration": 268,
    "start_time": "2023-01-09T07:19:58.682Z"
   },
   {
    "duration": 5,
    "start_time": "2023-01-09T07:19:58.952Z"
   },
   {
    "duration": 18,
    "start_time": "2023-01-09T07:19:58.959Z"
   },
   {
    "duration": 45,
    "start_time": "2023-01-09T07:19:58.978Z"
   },
   {
    "duration": 1,
    "start_time": "2023-01-09T07:19:59.025Z"
   },
   {
    "duration": 0,
    "start_time": "2023-01-09T07:19:59.027Z"
   },
   {
    "duration": 0,
    "start_time": "2023-01-09T07:19:59.029Z"
   },
   {
    "duration": 0,
    "start_time": "2023-01-09T07:19:59.030Z"
   },
   {
    "duration": 0,
    "start_time": "2023-01-09T07:19:59.032Z"
   },
   {
    "duration": 0,
    "start_time": "2023-01-09T07:19:59.033Z"
   },
   {
    "duration": 274,
    "start_time": "2023-01-09T07:21:06.284Z"
   },
   {
    "duration": 320,
    "start_time": "2023-01-09T07:24:53.266Z"
   },
   {
    "duration": 263,
    "start_time": "2023-01-09T07:25:07.224Z"
   },
   {
    "duration": 277,
    "start_time": "2023-01-09T07:27:36.024Z"
   },
   {
    "duration": 264,
    "start_time": "2023-01-09T07:30:37.118Z"
   },
   {
    "duration": 1122,
    "start_time": "2023-01-09T07:32:00.055Z"
   },
   {
    "duration": 73,
    "start_time": "2023-01-09T07:32:01.179Z"
   },
   {
    "duration": 19,
    "start_time": "2023-01-09T07:32:01.253Z"
   },
   {
    "duration": 30,
    "start_time": "2023-01-09T07:32:01.274Z"
   },
   {
    "duration": 18,
    "start_time": "2023-01-09T07:32:01.306Z"
   },
   {
    "duration": 21,
    "start_time": "2023-01-09T07:32:01.326Z"
   },
   {
    "duration": 105,
    "start_time": "2023-01-09T07:32:01.348Z"
   },
   {
    "duration": 11,
    "start_time": "2023-01-09T07:32:01.455Z"
   },
   {
    "duration": 16,
    "start_time": "2023-01-09T07:32:01.467Z"
   },
   {
    "duration": 11,
    "start_time": "2023-01-09T07:32:01.487Z"
   },
   {
    "duration": 24,
    "start_time": "2023-01-09T07:32:01.500Z"
   },
   {
    "duration": 11,
    "start_time": "2023-01-09T07:32:01.525Z"
   },
   {
    "duration": 25,
    "start_time": "2023-01-09T07:32:01.538Z"
   },
   {
    "duration": 295,
    "start_time": "2023-01-09T07:32:01.565Z"
   },
   {
    "duration": 3,
    "start_time": "2023-01-09T07:32:01.862Z"
   },
   {
    "duration": 4,
    "start_time": "2023-01-09T07:32:01.876Z"
   },
   {
    "duration": 154,
    "start_time": "2023-01-09T07:32:01.881Z"
   },
   {
    "duration": 0,
    "start_time": "2023-01-09T07:32:02.036Z"
   },
   {
    "duration": 0,
    "start_time": "2023-01-09T07:32:02.038Z"
   },
   {
    "duration": 0,
    "start_time": "2023-01-09T07:32:02.039Z"
   },
   {
    "duration": 0,
    "start_time": "2023-01-09T07:32:02.040Z"
   },
   {
    "duration": 0,
    "start_time": "2023-01-09T07:32:02.041Z"
   },
   {
    "duration": 0,
    "start_time": "2023-01-09T07:32:02.042Z"
   },
   {
    "duration": 271,
    "start_time": "2023-01-09T07:32:17.381Z"
   },
   {
    "duration": 7,
    "start_time": "2023-01-09T07:34:19.542Z"
   },
   {
    "duration": 9,
    "start_time": "2023-01-09T07:34:20.321Z"
   },
   {
    "duration": 4,
    "start_time": "2023-01-09T07:34:21.137Z"
   },
   {
    "duration": 290,
    "start_time": "2023-01-09T07:34:54.149Z"
   },
   {
    "duration": 293,
    "start_time": "2023-01-09T07:45:59.032Z"
   },
   {
    "duration": 152,
    "start_time": "2023-01-09T07:51:05.747Z"
   },
   {
    "duration": 19,
    "start_time": "2023-01-09T07:51:54.940Z"
   },
   {
    "duration": 308,
    "start_time": "2023-01-09T07:55:28.572Z"
   },
   {
    "duration": 6,
    "start_time": "2023-01-09T07:55:41.054Z"
   },
   {
    "duration": 7,
    "start_time": "2023-01-09T08:02:25.503Z"
   },
   {
    "duration": 278,
    "start_time": "2023-01-09T08:06:40.236Z"
   },
   {
    "duration": 195,
    "start_time": "2023-01-09T08:07:10.379Z"
   },
   {
    "duration": 254,
    "start_time": "2023-01-09T08:07:16.034Z"
   },
   {
    "duration": 326,
    "start_time": "2023-01-09T08:08:12.321Z"
   },
   {
    "duration": 209,
    "start_time": "2023-01-09T08:08:28.342Z"
   },
   {
    "duration": 260,
    "start_time": "2023-01-09T08:08:36.023Z"
   },
   {
    "duration": 181,
    "start_time": "2023-01-09T08:08:44.544Z"
   },
   {
    "duration": 609,
    "start_time": "2023-01-09T08:08:51.054Z"
   },
   {
    "duration": 155,
    "start_time": "2023-01-09T08:09:22.435Z"
   },
   {
    "duration": 159,
    "start_time": "2023-01-09T08:09:41.868Z"
   },
   {
    "duration": 188,
    "start_time": "2023-01-09T08:09:49.259Z"
   },
   {
    "duration": 160,
    "start_time": "2023-01-09T08:10:32.517Z"
   },
   {
    "duration": 196,
    "start_time": "2023-01-09T08:10:50.435Z"
   },
   {
    "duration": 162,
    "start_time": "2023-01-09T08:12:22.619Z"
   },
   {
    "duration": 184,
    "start_time": "2023-01-09T08:18:19.482Z"
   },
   {
    "duration": 150,
    "start_time": "2023-01-09T08:18:29.520Z"
   },
   {
    "duration": 191,
    "start_time": "2023-01-09T08:18:36.247Z"
   },
   {
    "duration": 192,
    "start_time": "2023-01-09T08:18:53.849Z"
   },
   {
    "duration": 203,
    "start_time": "2023-01-09T08:19:06.712Z"
   },
   {
    "duration": 293,
    "start_time": "2023-01-09T08:20:08.155Z"
   },
   {
    "duration": 164,
    "start_time": "2023-01-09T08:20:16.713Z"
   },
   {
    "duration": 236,
    "start_time": "2023-01-09T08:22:01.720Z"
   },
   {
    "duration": 195,
    "start_time": "2023-01-09T08:22:33.761Z"
   },
   {
    "duration": 215,
    "start_time": "2023-01-09T08:22:39.838Z"
   },
   {
    "duration": 211,
    "start_time": "2023-01-09T08:22:46.370Z"
   },
   {
    "duration": 243,
    "start_time": "2023-01-09T08:22:49.847Z"
   },
   {
    "duration": 202,
    "start_time": "2023-01-09T09:59:30.299Z"
   },
   {
    "duration": 191,
    "start_time": "2023-01-09T10:00:11.371Z"
   },
   {
    "duration": 256,
    "start_time": "2023-01-09T10:00:24.864Z"
   },
   {
    "duration": 202,
    "start_time": "2023-01-09T10:09:21.949Z"
   },
   {
    "duration": 307,
    "start_time": "2023-01-09T10:10:10.544Z"
   },
   {
    "duration": 239,
    "start_time": "2023-01-09T10:10:26.022Z"
   },
   {
    "duration": 306,
    "start_time": "2023-01-09T10:16:21.306Z"
   },
   {
    "duration": 332,
    "start_time": "2023-01-09T10:16:42.820Z"
   },
   {
    "duration": 5,
    "start_time": "2023-01-09T10:18:27.379Z"
   },
   {
    "duration": 6,
    "start_time": "2023-01-09T10:19:28.841Z"
   },
   {
    "duration": 5,
    "start_time": "2023-01-09T10:19:48.234Z"
   },
   {
    "duration": 236,
    "start_time": "2023-01-09T10:22:18.717Z"
   },
   {
    "duration": 10,
    "start_time": "2023-01-09T10:27:06.772Z"
   },
   {
    "duration": 202,
    "start_time": "2023-01-09T10:29:08.766Z"
   },
   {
    "duration": 341,
    "start_time": "2023-01-09T10:29:55.657Z"
   },
   {
    "duration": 49,
    "start_time": "2023-01-09T10:30:46.738Z"
   },
   {
    "duration": 380,
    "start_time": "2023-01-09T10:31:15.255Z"
   },
   {
    "duration": 146,
    "start_time": "2023-01-09T10:35:25.239Z"
   },
   {
    "duration": 1484,
    "start_time": "2023-01-09T17:05:01.632Z"
   },
   {
    "duration": 262,
    "start_time": "2023-01-09T17:05:03.119Z"
   },
   {
    "duration": 25,
    "start_time": "2023-01-09T17:05:03.382Z"
   },
   {
    "duration": 19,
    "start_time": "2023-01-09T17:05:03.409Z"
   },
   {
    "duration": 23,
    "start_time": "2023-01-09T17:05:03.430Z"
   },
   {
    "duration": 12,
    "start_time": "2023-01-09T17:05:03.456Z"
   },
   {
    "duration": 85,
    "start_time": "2023-01-09T17:05:03.470Z"
   },
   {
    "duration": 10,
    "start_time": "2023-01-09T17:05:03.557Z"
   },
   {
    "duration": 14,
    "start_time": "2023-01-09T17:05:03.569Z"
   },
   {
    "duration": 16,
    "start_time": "2023-01-09T17:05:03.586Z"
   },
   {
    "duration": 13,
    "start_time": "2023-01-09T17:05:03.604Z"
   },
   {
    "duration": 6,
    "start_time": "2023-01-09T17:05:03.651Z"
   },
   {
    "duration": 12,
    "start_time": "2023-01-09T17:05:03.660Z"
   },
   {
    "duration": 12,
    "start_time": "2023-01-09T17:05:03.673Z"
   },
   {
    "duration": 325,
    "start_time": "2023-01-09T17:05:03.687Z"
   },
   {
    "duration": 319,
    "start_time": "2023-01-09T17:05:04.014Z"
   },
   {
    "duration": 230,
    "start_time": "2023-01-09T17:05:04.335Z"
   },
   {
    "duration": 350,
    "start_time": "2023-01-09T17:05:04.567Z"
   },
   {
    "duration": 253,
    "start_time": "2023-01-09T17:05:04.918Z"
   },
   {
    "duration": 348,
    "start_time": "2023-01-09T17:05:05.173Z"
   },
   {
    "duration": 145,
    "start_time": "2023-01-09T17:05:05.524Z"
   },
   {
    "duration": 79,
    "start_time": "2023-01-09T17:05:05.670Z"
   },
   {
    "duration": 0,
    "start_time": "2023-01-09T17:05:05.752Z"
   },
   {
    "duration": 0,
    "start_time": "2023-01-09T17:05:05.753Z"
   },
   {
    "duration": 0,
    "start_time": "2023-01-09T17:05:05.754Z"
   },
   {
    "duration": 0,
    "start_time": "2023-01-09T17:05:05.755Z"
   },
   {
    "duration": 0,
    "start_time": "2023-01-09T17:05:05.757Z"
   },
   {
    "duration": 6,
    "start_time": "2023-01-09T17:05:22.721Z"
   },
   {
    "duration": 8,
    "start_time": "2023-01-09T17:05:27.061Z"
   },
   {
    "duration": 4,
    "start_time": "2023-01-09T17:05:31.826Z"
   },
   {
    "duration": 1283,
    "start_time": "2023-01-09T17:06:06.683Z"
   },
   {
    "duration": 1129,
    "start_time": "2023-01-09T20:34:24.857Z"
   },
   {
    "duration": 214,
    "start_time": "2023-01-09T20:36:09.322Z"
   },
   {
    "duration": 16,
    "start_time": "2023-01-09T20:40:44.863Z"
   },
   {
    "duration": 13,
    "start_time": "2023-01-09T20:40:54.329Z"
   },
   {
    "duration": 12,
    "start_time": "2023-01-09T20:41:01.963Z"
   },
   {
    "duration": 7,
    "start_time": "2023-01-09T20:41:16.725Z"
   },
   {
    "duration": 151,
    "start_time": "2023-01-09T20:58:45.395Z"
   },
   {
    "duration": 4,
    "start_time": "2023-01-09T21:05:24.188Z"
   },
   {
    "duration": 11,
    "start_time": "2023-01-09T21:06:30.995Z"
   },
   {
    "duration": 158,
    "start_time": "2023-01-09T21:06:39.925Z"
   },
   {
    "duration": 5,
    "start_time": "2023-01-09T21:09:38.385Z"
   },
   {
    "duration": 5,
    "start_time": "2023-01-09T21:20:01.825Z"
   },
   {
    "duration": 47,
    "start_time": "2023-01-10T07:07:46.841Z"
   },
   {
    "duration": 1312,
    "start_time": "2023-01-10T07:07:53.851Z"
   },
   {
    "duration": 223,
    "start_time": "2023-01-10T07:07:55.165Z"
   },
   {
    "duration": 21,
    "start_time": "2023-01-10T07:07:55.389Z"
   },
   {
    "duration": 31,
    "start_time": "2023-01-10T07:07:55.413Z"
   },
   {
    "duration": 18,
    "start_time": "2023-01-10T07:07:55.445Z"
   },
   {
    "duration": 4,
    "start_time": "2023-01-10T07:07:55.464Z"
   },
   {
    "duration": 82,
    "start_time": "2023-01-10T07:07:55.469Z"
   },
   {
    "duration": 9,
    "start_time": "2023-01-10T07:07:55.554Z"
   },
   {
    "duration": 13,
    "start_time": "2023-01-10T07:07:55.565Z"
   },
   {
    "duration": 45,
    "start_time": "2023-01-10T07:07:55.581Z"
   },
   {
    "duration": 12,
    "start_time": "2023-01-10T07:07:55.628Z"
   },
   {
    "duration": 78,
    "start_time": "2023-01-10T07:07:55.642Z"
   },
   {
    "duration": 0,
    "start_time": "2023-01-10T07:07:55.724Z"
   },
   {
    "duration": 0,
    "start_time": "2023-01-10T07:07:55.725Z"
   },
   {
    "duration": 0,
    "start_time": "2023-01-10T07:07:55.727Z"
   },
   {
    "duration": 0,
    "start_time": "2023-01-10T07:07:55.729Z"
   },
   {
    "duration": 0,
    "start_time": "2023-01-10T07:07:55.730Z"
   },
   {
    "duration": 0,
    "start_time": "2023-01-10T07:07:55.732Z"
   },
   {
    "duration": 0,
    "start_time": "2023-01-10T07:07:55.733Z"
   },
   {
    "duration": 0,
    "start_time": "2023-01-10T07:07:55.734Z"
   },
   {
    "duration": 0,
    "start_time": "2023-01-10T07:07:55.735Z"
   },
   {
    "duration": 0,
    "start_time": "2023-01-10T07:07:55.736Z"
   },
   {
    "duration": 0,
    "start_time": "2023-01-10T07:07:55.738Z"
   },
   {
    "duration": 0,
    "start_time": "2023-01-10T07:07:55.739Z"
   },
   {
    "duration": 0,
    "start_time": "2023-01-10T07:07:55.740Z"
   },
   {
    "duration": 0,
    "start_time": "2023-01-10T07:07:55.742Z"
   },
   {
    "duration": 0,
    "start_time": "2023-01-10T07:07:55.743Z"
   },
   {
    "duration": 0,
    "start_time": "2023-01-10T07:07:55.744Z"
   },
   {
    "duration": 0,
    "start_time": "2023-01-10T07:07:55.745Z"
   },
   {
    "duration": 6,
    "start_time": "2023-01-10T07:08:18.512Z"
   },
   {
    "duration": 3,
    "start_time": "2023-01-10T07:08:32.971Z"
   },
   {
    "duration": 79,
    "start_time": "2023-01-10T07:08:32.976Z"
   },
   {
    "duration": 15,
    "start_time": "2023-01-10T07:08:33.057Z"
   },
   {
    "duration": 25,
    "start_time": "2023-01-10T07:08:33.074Z"
   },
   {
    "duration": 21,
    "start_time": "2023-01-10T07:08:33.101Z"
   },
   {
    "duration": 4,
    "start_time": "2023-01-10T07:08:33.123Z"
   },
   {
    "duration": 30,
    "start_time": "2023-01-10T07:08:33.129Z"
   },
   {
    "duration": 10,
    "start_time": "2023-01-10T07:08:33.160Z"
   },
   {
    "duration": 14,
    "start_time": "2023-01-10T07:08:33.172Z"
   },
   {
    "duration": 35,
    "start_time": "2023-01-10T07:08:33.187Z"
   },
   {
    "duration": 11,
    "start_time": "2023-01-10T07:08:33.225Z"
   },
   {
    "duration": 31,
    "start_time": "2023-01-10T07:08:33.238Z"
   },
   {
    "duration": 38,
    "start_time": "2023-01-10T07:08:33.271Z"
   },
   {
    "duration": 11,
    "start_time": "2023-01-10T07:08:33.312Z"
   },
   {
    "duration": 17,
    "start_time": "2023-01-10T07:08:33.325Z"
   },
   {
    "duration": 0,
    "start_time": "2023-01-10T07:08:33.344Z"
   },
   {
    "duration": 0,
    "start_time": "2023-01-10T07:08:33.345Z"
   },
   {
    "duration": 0,
    "start_time": "2023-01-10T07:08:33.346Z"
   },
   {
    "duration": 0,
    "start_time": "2023-01-10T07:08:33.348Z"
   },
   {
    "duration": 0,
    "start_time": "2023-01-10T07:08:33.349Z"
   },
   {
    "duration": 0,
    "start_time": "2023-01-10T07:08:33.351Z"
   },
   {
    "duration": 0,
    "start_time": "2023-01-10T07:08:33.352Z"
   },
   {
    "duration": 0,
    "start_time": "2023-01-10T07:08:33.354Z"
   },
   {
    "duration": 0,
    "start_time": "2023-01-10T07:08:33.356Z"
   },
   {
    "duration": 0,
    "start_time": "2023-01-10T07:08:33.357Z"
   },
   {
    "duration": 0,
    "start_time": "2023-01-10T07:08:33.358Z"
   },
   {
    "duration": 0,
    "start_time": "2023-01-10T07:08:33.360Z"
   },
   {
    "duration": 0,
    "start_time": "2023-01-10T07:08:33.362Z"
   },
   {
    "duration": 0,
    "start_time": "2023-01-10T07:08:33.363Z"
   },
   {
    "duration": 299,
    "start_time": "2023-01-10T07:08:57.614Z"
   },
   {
    "duration": 3,
    "start_time": "2023-01-10T07:09:03.162Z"
   },
   {
    "duration": 76,
    "start_time": "2023-01-10T07:09:03.170Z"
   },
   {
    "duration": 16,
    "start_time": "2023-01-10T07:09:03.248Z"
   },
   {
    "duration": 19,
    "start_time": "2023-01-10T07:09:03.266Z"
   },
   {
    "duration": 16,
    "start_time": "2023-01-10T07:09:03.288Z"
   },
   {
    "duration": 2,
    "start_time": "2023-01-10T07:09:03.306Z"
   },
   {
    "duration": 28,
    "start_time": "2023-01-10T07:09:03.311Z"
   },
   {
    "duration": 9,
    "start_time": "2023-01-10T07:09:03.340Z"
   },
   {
    "duration": 11,
    "start_time": "2023-01-10T07:09:03.351Z"
   },
   {
    "duration": 13,
    "start_time": "2023-01-10T07:09:03.365Z"
   },
   {
    "duration": 43,
    "start_time": "2023-01-10T07:09:03.381Z"
   },
   {
    "duration": 7,
    "start_time": "2023-01-10T07:09:03.426Z"
   },
   {
    "duration": 9,
    "start_time": "2023-01-10T07:09:03.435Z"
   },
   {
    "duration": 8,
    "start_time": "2023-01-10T07:09:03.445Z"
   },
   {
    "duration": 278,
    "start_time": "2023-01-10T07:09:03.455Z"
   },
   {
    "duration": 291,
    "start_time": "2023-01-10T07:09:03.735Z"
   },
   {
    "duration": 215,
    "start_time": "2023-01-10T07:09:04.028Z"
   },
   {
    "duration": 324,
    "start_time": "2023-01-10T07:09:04.245Z"
   },
   {
    "duration": 220,
    "start_time": "2023-01-10T07:09:04.571Z"
   },
   {
    "duration": 344,
    "start_time": "2023-01-10T07:09:04.793Z"
   },
   {
    "duration": 119,
    "start_time": "2023-01-10T07:09:05.139Z"
   },
   {
    "duration": 5,
    "start_time": "2023-01-10T07:09:05.260Z"
   },
   {
    "duration": 206,
    "start_time": "2023-01-10T07:09:05.267Z"
   },
   {
    "duration": 4,
    "start_time": "2023-01-10T07:09:05.475Z"
   },
   {
    "duration": 110,
    "start_time": "2023-01-10T07:09:05.480Z"
   },
   {
    "duration": 0,
    "start_time": "2023-01-10T07:09:05.591Z"
   },
   {
    "duration": 0,
    "start_time": "2023-01-10T07:09:05.592Z"
   },
   {
    "duration": 0,
    "start_time": "2023-01-10T07:09:05.594Z"
   },
   {
    "duration": 0,
    "start_time": "2023-01-10T07:09:05.595Z"
   },
   {
    "duration": 92,
    "start_time": "2023-01-10T07:09:38.763Z"
   },
   {
    "duration": 95,
    "start_time": "2023-01-10T07:14:15.305Z"
   },
   {
    "duration": 13,
    "start_time": "2023-01-10T07:15:01.147Z"
   },
   {
    "duration": 98,
    "start_time": "2023-01-10T07:15:21.047Z"
   },
   {
    "duration": 91,
    "start_time": "2023-01-10T07:15:23.721Z"
   },
   {
    "duration": 92,
    "start_time": "2023-01-10T07:15:26.586Z"
   },
   {
    "duration": 142,
    "start_time": "2023-01-10T07:47:27.287Z"
   },
   {
    "duration": 207,
    "start_time": "2023-01-10T07:50:10.050Z"
   },
   {
    "duration": 228,
    "start_time": "2023-01-10T07:55:27.098Z"
   },
   {
    "duration": 236,
    "start_time": "2023-01-10T07:55:43.746Z"
   },
   {
    "duration": 92,
    "start_time": "2023-01-10T08:01:12.904Z"
   },
   {
    "duration": 67,
    "start_time": "2023-01-10T08:01:47.420Z"
   },
   {
    "duration": 155,
    "start_time": "2023-01-10T08:02:19.413Z"
   },
   {
    "duration": 159,
    "start_time": "2023-01-10T09:16:14.171Z"
   },
   {
    "duration": 167,
    "start_time": "2023-01-10T09:17:09.949Z"
   },
   {
    "duration": 46,
    "start_time": "2023-01-10T09:21:12.921Z"
   },
   {
    "duration": 46,
    "start_time": "2023-01-10T09:21:45.137Z"
   },
   {
    "duration": 9,
    "start_time": "2023-01-10T09:22:16.077Z"
   },
   {
    "duration": 3,
    "start_time": "2023-01-10T09:23:11.597Z"
   },
   {
    "duration": 20,
    "start_time": "2023-01-10T09:23:19.577Z"
   },
   {
    "duration": 5,
    "start_time": "2023-01-10T09:23:22.282Z"
   },
   {
    "duration": 22,
    "start_time": "2023-01-10T09:23:42.911Z"
   },
   {
    "duration": 24,
    "start_time": "2023-01-10T09:23:52.763Z"
   },
   {
    "duration": 13,
    "start_time": "2023-01-10T09:56:25.444Z"
   },
   {
    "duration": 12,
    "start_time": "2023-01-10T09:56:53.413Z"
   },
   {
    "duration": 733,
    "start_time": "2023-01-10T14:26:42.904Z"
   },
   {
    "duration": 4,
    "start_time": "2023-01-10T14:27:52.156Z"
   },
   {
    "duration": 19,
    "start_time": "2023-01-10T14:28:05.662Z"
   },
   {
    "duration": 7,
    "start_time": "2023-01-10T14:28:17.241Z"
   },
   {
    "duration": 11,
    "start_time": "2023-01-10T14:36:19.323Z"
   },
   {
    "duration": 11,
    "start_time": "2023-01-10T14:36:34.179Z"
   },
   {
    "duration": 10,
    "start_time": "2023-01-10T14:36:48.055Z"
   },
   {
    "duration": 6,
    "start_time": "2023-01-10T14:53:40.841Z"
   },
   {
    "duration": 10,
    "start_time": "2023-01-10T14:55:36.956Z"
   },
   {
    "duration": 9,
    "start_time": "2023-01-10T14:57:11.478Z"
   },
   {
    "duration": 8,
    "start_time": "2023-01-10T14:57:27.150Z"
   },
   {
    "duration": 8,
    "start_time": "2023-01-10T14:57:28.479Z"
   },
   {
    "duration": 23,
    "start_time": "2023-01-10T14:57:29.069Z"
   },
   {
    "duration": 24,
    "start_time": "2023-01-10T14:58:33.060Z"
   },
   {
    "duration": 23,
    "start_time": "2023-01-10T14:59:20.591Z"
   },
   {
    "duration": 49,
    "start_time": "2023-01-10T15:06:47.037Z"
   },
   {
    "duration": 942,
    "start_time": "2023-01-10T15:07:20.205Z"
   },
   {
    "duration": 12,
    "start_time": "2023-01-10T15:07:35.274Z"
   },
   {
    "duration": 77,
    "start_time": "2023-01-10T15:09:08.718Z"
   },
   {
    "duration": 27,
    "start_time": "2023-01-10T15:10:00.145Z"
   },
   {
    "duration": 1110,
    "start_time": "2023-01-10T15:10:16.373Z"
   },
   {
    "duration": 15,
    "start_time": "2023-01-10T15:10:36.035Z"
   },
   {
    "duration": 17,
    "start_time": "2023-01-10T15:10:57.658Z"
   },
   {
    "duration": 4,
    "start_time": "2023-01-10T16:04:48.479Z"
   },
   {
    "duration": 178,
    "start_time": "2023-01-10T16:04:48.487Z"
   },
   {
    "duration": 24,
    "start_time": "2023-01-10T16:04:48.668Z"
   },
   {
    "duration": 33,
    "start_time": "2023-01-10T16:04:48.695Z"
   },
   {
    "duration": 19,
    "start_time": "2023-01-10T16:04:48.730Z"
   },
   {
    "duration": 21,
    "start_time": "2023-01-10T16:04:48.751Z"
   },
   {
    "duration": 44,
    "start_time": "2023-01-10T16:04:48.775Z"
   },
   {
    "duration": 16,
    "start_time": "2023-01-10T16:04:48.820Z"
   },
   {
    "duration": 18,
    "start_time": "2023-01-10T16:04:48.838Z"
   },
   {
    "duration": 39,
    "start_time": "2023-01-10T16:04:48.860Z"
   },
   {
    "duration": 42,
    "start_time": "2023-01-10T16:04:48.902Z"
   },
   {
    "duration": 18,
    "start_time": "2023-01-10T16:04:48.946Z"
   },
   {
    "duration": 13,
    "start_time": "2023-01-10T16:04:48.966Z"
   },
   {
    "duration": 7,
    "start_time": "2023-01-10T16:04:48.981Z"
   },
   {
    "duration": 370,
    "start_time": "2023-01-10T16:04:48.990Z"
   },
   {
    "duration": 266,
    "start_time": "2023-01-10T16:04:49.362Z"
   },
   {
    "duration": 230,
    "start_time": "2023-01-10T16:04:49.629Z"
   },
   {
    "duration": 308,
    "start_time": "2023-01-10T16:04:49.861Z"
   },
   {
    "duration": 323,
    "start_time": "2023-01-10T16:04:50.171Z"
   },
   {
    "duration": 380,
    "start_time": "2023-01-10T16:04:50.496Z"
   },
   {
    "duration": 136,
    "start_time": "2023-01-10T16:04:50.878Z"
   },
   {
    "duration": 6,
    "start_time": "2023-01-10T16:04:51.015Z"
   },
   {
    "duration": 171,
    "start_time": "2023-01-10T16:04:51.022Z"
   },
   {
    "duration": 6,
    "start_time": "2023-01-10T16:04:51.196Z"
   },
   {
    "duration": 265,
    "start_time": "2023-01-10T16:04:51.205Z"
   },
   {
    "duration": 162,
    "start_time": "2023-01-10T16:04:51.472Z"
   },
   {
    "duration": 25,
    "start_time": "2023-01-10T16:04:51.636Z"
   },
   {
    "duration": 13,
    "start_time": "2023-01-10T16:04:51.665Z"
   },
   {
    "duration": 38,
    "start_time": "2023-01-10T16:04:51.680Z"
   },
   {
    "duration": 17,
    "start_time": "2023-01-10T16:04:51.720Z"
   },
   {
    "duration": 27,
    "start_time": "2023-01-10T16:04:51.739Z"
   },
   {
    "duration": 18,
    "start_time": "2023-01-10T16:04:51.767Z"
   },
   {
    "duration": 6,
    "start_time": "2023-01-10T16:38:33.520Z"
   },
   {
    "duration": 11,
    "start_time": "2023-01-10T16:43:11.470Z"
   },
   {
    "duration": 12,
    "start_time": "2023-01-10T16:43:33.850Z"
   },
   {
    "duration": 11,
    "start_time": "2023-01-10T16:43:40.438Z"
   },
   {
    "duration": 11,
    "start_time": "2023-01-10T16:43:43.801Z"
   },
   {
    "duration": 12,
    "start_time": "2023-01-10T16:43:57.831Z"
   },
   {
    "duration": 1208,
    "start_time": "2023-01-10T16:44:06.746Z"
   },
   {
    "duration": 77,
    "start_time": "2023-01-10T16:44:07.957Z"
   },
   {
    "duration": 21,
    "start_time": "2023-01-10T16:44:08.036Z"
   },
   {
    "duration": 19,
    "start_time": "2023-01-10T16:44:08.059Z"
   },
   {
    "duration": 20,
    "start_time": "2023-01-10T16:44:08.080Z"
   },
   {
    "duration": 11,
    "start_time": "2023-01-10T16:44:08.102Z"
   },
   {
    "duration": 84,
    "start_time": "2023-01-10T16:44:08.115Z"
   },
   {
    "duration": 23,
    "start_time": "2023-01-10T16:44:08.201Z"
   },
   {
    "duration": 18,
    "start_time": "2023-01-10T16:44:08.225Z"
   },
   {
    "duration": 15,
    "start_time": "2023-01-10T16:44:08.245Z"
   },
   {
    "duration": 11,
    "start_time": "2023-01-10T16:44:08.262Z"
   },
   {
    "duration": 9,
    "start_time": "2023-01-10T16:44:08.275Z"
   },
   {
    "duration": 27,
    "start_time": "2023-01-10T16:44:08.286Z"
   },
   {
    "duration": 8,
    "start_time": "2023-01-10T16:44:08.315Z"
   },
   {
    "duration": 309,
    "start_time": "2023-01-10T16:44:08.325Z"
   },
   {
    "duration": 311,
    "start_time": "2023-01-10T16:44:08.636Z"
   },
   {
    "duration": 231,
    "start_time": "2023-01-10T16:44:08.949Z"
   },
   {
    "duration": 349,
    "start_time": "2023-01-10T16:44:09.181Z"
   },
   {
    "duration": 245,
    "start_time": "2023-01-10T16:44:09.532Z"
   },
   {
    "duration": 362,
    "start_time": "2023-01-10T16:44:09.779Z"
   },
   {
    "duration": 132,
    "start_time": "2023-01-10T16:44:10.143Z"
   },
   {
    "duration": 5,
    "start_time": "2023-01-10T16:44:10.277Z"
   },
   {
    "duration": 145,
    "start_time": "2023-01-10T16:44:10.283Z"
   },
   {
    "duration": 5,
    "start_time": "2023-01-10T16:44:10.430Z"
   },
   {
    "duration": 314,
    "start_time": "2023-01-10T16:44:10.436Z"
   },
   {
    "duration": 145,
    "start_time": "2023-01-10T16:44:10.753Z"
   },
   {
    "duration": 30,
    "start_time": "2023-01-10T16:44:10.900Z"
   },
   {
    "duration": 13,
    "start_time": "2023-01-10T16:44:10.934Z"
   },
   {
    "duration": 11,
    "start_time": "2023-01-10T16:44:10.948Z"
   },
   {
    "duration": 11,
    "start_time": "2023-01-10T16:44:10.961Z"
   },
   {
    "duration": 52,
    "start_time": "2023-01-10T16:44:10.974Z"
   },
   {
    "duration": 16,
    "start_time": "2023-01-10T16:44:11.028Z"
   },
   {
    "duration": 19,
    "start_time": "2023-01-10T16:44:23.373Z"
   },
   {
    "duration": 22,
    "start_time": "2023-01-10T16:44:26.595Z"
   },
   {
    "duration": 4,
    "start_time": "2023-01-10T16:44:45.781Z"
   },
   {
    "duration": 83,
    "start_time": "2023-01-10T16:44:45.788Z"
   },
   {
    "duration": 18,
    "start_time": "2023-01-10T16:44:45.873Z"
   },
   {
    "duration": 23,
    "start_time": "2023-01-10T16:44:45.893Z"
   },
   {
    "duration": 21,
    "start_time": "2023-01-10T16:44:45.917Z"
   },
   {
    "duration": 4,
    "start_time": "2023-01-10T16:44:45.940Z"
   },
   {
    "duration": 31,
    "start_time": "2023-01-10T16:44:45.945Z"
   },
   {
    "duration": 10,
    "start_time": "2023-01-10T16:44:45.977Z"
   },
   {
    "duration": 14,
    "start_time": "2023-01-10T16:44:46.012Z"
   },
   {
    "duration": 14,
    "start_time": "2023-01-10T16:44:46.028Z"
   },
   {
    "duration": 13,
    "start_time": "2023-01-10T16:44:46.044Z"
   },
   {
    "duration": 8,
    "start_time": "2023-01-10T16:44:46.059Z"
   },
   {
    "duration": 11,
    "start_time": "2023-01-10T16:44:46.068Z"
   },
   {
    "duration": 31,
    "start_time": "2023-01-10T16:44:46.082Z"
   },
   {
    "duration": 310,
    "start_time": "2023-01-10T16:44:46.115Z"
   },
   {
    "duration": 256,
    "start_time": "2023-01-10T16:44:46.427Z"
   },
   {
    "duration": 243,
    "start_time": "2023-01-10T16:44:46.685Z"
   },
   {
    "duration": 304,
    "start_time": "2023-01-10T16:44:46.931Z"
   },
   {
    "duration": 236,
    "start_time": "2023-01-10T16:44:47.237Z"
   },
   {
    "duration": 368,
    "start_time": "2023-01-10T16:44:47.474Z"
   },
   {
    "duration": 133,
    "start_time": "2023-01-10T16:44:47.843Z"
   },
   {
    "duration": 5,
    "start_time": "2023-01-10T16:44:47.978Z"
   },
   {
    "duration": 133,
    "start_time": "2023-01-10T16:44:47.984Z"
   },
   {
    "duration": 5,
    "start_time": "2023-01-10T16:44:48.120Z"
   },
   {
    "duration": 254,
    "start_time": "2023-01-10T16:44:48.127Z"
   },
   {
    "duration": 162,
    "start_time": "2023-01-10T16:44:48.383Z"
   },
   {
    "duration": 23,
    "start_time": "2023-01-10T16:44:48.547Z"
   },
   {
    "duration": 13,
    "start_time": "2023-01-10T16:44:48.572Z"
   },
   {
    "duration": 11,
    "start_time": "2023-01-10T16:44:48.612Z"
   },
   {
    "duration": 14,
    "start_time": "2023-01-10T16:44:48.625Z"
   },
   {
    "duration": 22,
    "start_time": "2023-01-10T16:44:48.641Z"
   },
   {
    "duration": 14,
    "start_time": "2023-01-10T16:44:48.665Z"
   },
   {
    "duration": 1339,
    "start_time": "2023-01-10T16:49:06.992Z"
   },
   {
    "duration": 77,
    "start_time": "2023-01-10T16:49:08.334Z"
   },
   {
    "duration": 27,
    "start_time": "2023-01-10T16:49:08.413Z"
   },
   {
    "duration": 24,
    "start_time": "2023-01-10T16:49:08.443Z"
   },
   {
    "duration": 53,
    "start_time": "2023-01-10T16:49:08.469Z"
   },
   {
    "duration": 4,
    "start_time": "2023-01-10T16:49:08.524Z"
   },
   {
    "duration": 84,
    "start_time": "2023-01-10T16:49:08.529Z"
   },
   {
    "duration": 12,
    "start_time": "2023-01-10T16:49:08.615Z"
   },
   {
    "duration": 20,
    "start_time": "2023-01-10T16:49:08.628Z"
   },
   {
    "duration": 16,
    "start_time": "2023-01-10T16:49:08.651Z"
   },
   {
    "duration": 44,
    "start_time": "2023-01-10T16:49:08.669Z"
   },
   {
    "duration": 7,
    "start_time": "2023-01-10T16:49:08.716Z"
   },
   {
    "duration": 9,
    "start_time": "2023-01-10T16:49:08.725Z"
   },
   {
    "duration": 7,
    "start_time": "2023-01-10T16:49:08.736Z"
   },
   {
    "duration": 325,
    "start_time": "2023-01-10T16:49:08.745Z"
   },
   {
    "duration": 360,
    "start_time": "2023-01-10T16:49:09.072Z"
   },
   {
    "duration": 235,
    "start_time": "2023-01-10T16:49:09.434Z"
   },
   {
    "duration": 403,
    "start_time": "2023-01-10T16:49:09.670Z"
   },
   {
    "duration": 278,
    "start_time": "2023-01-10T16:49:10.075Z"
   },
   {
    "duration": 340,
    "start_time": "2023-01-10T16:49:10.354Z"
   },
   {
    "duration": 137,
    "start_time": "2023-01-10T16:49:10.696Z"
   },
   {
    "duration": 6,
    "start_time": "2023-01-10T16:49:10.835Z"
   },
   {
    "duration": 161,
    "start_time": "2023-01-10T16:49:10.843Z"
   },
   {
    "duration": 6,
    "start_time": "2023-01-10T16:49:11.012Z"
   },
   {
    "duration": 356,
    "start_time": "2023-01-10T16:49:11.020Z"
   },
   {
    "duration": 175,
    "start_time": "2023-01-10T16:49:11.378Z"
   },
   {
    "duration": 24,
    "start_time": "2023-01-10T16:49:11.555Z"
   },
   {
    "duration": 32,
    "start_time": "2023-01-10T16:49:11.583Z"
   },
   {
    "duration": 14,
    "start_time": "2023-01-10T16:49:11.616Z"
   },
   {
    "duration": 13,
    "start_time": "2023-01-10T16:49:11.632Z"
   },
   {
    "duration": 27,
    "start_time": "2023-01-10T16:49:11.647Z"
   },
   {
    "duration": 48,
    "start_time": "2023-01-10T16:49:11.676Z"
   },
   {
    "duration": 27,
    "start_time": "2023-01-10T16:49:26.919Z"
   },
   {
    "duration": 21,
    "start_time": "2023-01-10T16:50:11.936Z"
   },
   {
    "duration": 22,
    "start_time": "2023-01-10T16:50:14.771Z"
   },
   {
    "duration": 1154,
    "start_time": "2023-01-10T16:50:28.103Z"
   },
   {
    "duration": 79,
    "start_time": "2023-01-10T16:50:29.259Z"
   },
   {
    "duration": 25,
    "start_time": "2023-01-10T16:50:29.340Z"
   },
   {
    "duration": 23,
    "start_time": "2023-01-10T16:50:29.367Z"
   },
   {
    "duration": 24,
    "start_time": "2023-01-10T16:50:29.392Z"
   },
   {
    "duration": 4,
    "start_time": "2023-01-10T16:50:29.418Z"
   },
   {
    "duration": 93,
    "start_time": "2023-01-10T16:50:29.423Z"
   },
   {
    "duration": 10,
    "start_time": "2023-01-10T16:50:29.518Z"
   },
   {
    "duration": 15,
    "start_time": "2023-01-10T16:50:29.530Z"
   },
   {
    "duration": 19,
    "start_time": "2023-01-10T16:50:29.547Z"
   },
   {
    "duration": 50,
    "start_time": "2023-01-10T16:50:29.568Z"
   },
   {
    "duration": 7,
    "start_time": "2023-01-10T16:50:29.620Z"
   },
   {
    "duration": 9,
    "start_time": "2023-01-10T16:50:29.629Z"
   },
   {
    "duration": 5,
    "start_time": "2023-01-10T16:50:29.641Z"
   },
   {
    "duration": 333,
    "start_time": "2023-01-10T16:50:29.648Z"
   },
   {
    "duration": 347,
    "start_time": "2023-01-10T16:50:29.983Z"
   },
   {
    "duration": 231,
    "start_time": "2023-01-10T16:50:30.332Z"
   },
   {
    "duration": 374,
    "start_time": "2023-01-10T16:50:30.565Z"
   },
   {
    "duration": 255,
    "start_time": "2023-01-10T16:50:30.942Z"
   },
   {
    "duration": 353,
    "start_time": "2023-01-10T16:50:31.199Z"
   },
   {
    "duration": 134,
    "start_time": "2023-01-10T16:50:31.553Z"
   },
   {
    "duration": 6,
    "start_time": "2023-01-10T16:50:31.688Z"
   },
   {
    "duration": 165,
    "start_time": "2023-01-10T16:50:31.696Z"
   },
   {
    "duration": 6,
    "start_time": "2023-01-10T16:50:31.863Z"
   },
   {
    "duration": 329,
    "start_time": "2023-01-10T16:50:31.871Z"
   },
   {
    "duration": 152,
    "start_time": "2023-01-10T16:50:32.202Z"
   },
   {
    "duration": 27,
    "start_time": "2023-01-10T16:50:32.356Z"
   },
   {
    "duration": 29,
    "start_time": "2023-01-10T16:50:32.385Z"
   },
   {
    "duration": 9,
    "start_time": "2023-01-10T16:50:32.417Z"
   },
   {
    "duration": 60,
    "start_time": "2023-01-10T16:50:32.428Z"
   },
   {
    "duration": 54,
    "start_time": "2023-01-10T16:50:32.490Z"
   },
   {
    "duration": 17,
    "start_time": "2023-01-10T16:50:32.545Z"
   },
   {
    "duration": 25,
    "start_time": "2023-01-10T16:50:56.801Z"
   },
   {
    "duration": 61,
    "start_time": "2023-01-11T08:26:31.037Z"
   },
   {
    "duration": 1288,
    "start_time": "2023-01-11T08:26:36.634Z"
   },
   {
    "duration": 213,
    "start_time": "2023-01-11T08:26:37.925Z"
   },
   {
    "duration": 21,
    "start_time": "2023-01-11T08:26:38.140Z"
   },
   {
    "duration": 42,
    "start_time": "2023-01-11T08:26:38.162Z"
   },
   {
    "duration": 42,
    "start_time": "2023-01-11T08:26:38.206Z"
   },
   {
    "duration": 27,
    "start_time": "2023-01-11T08:26:38.250Z"
   },
   {
    "duration": 73,
    "start_time": "2023-01-11T08:26:38.278Z"
   },
   {
    "duration": 8,
    "start_time": "2023-01-11T08:26:38.353Z"
   },
   {
    "duration": 33,
    "start_time": "2023-01-11T08:26:38.363Z"
   },
   {
    "duration": 17,
    "start_time": "2023-01-11T08:26:38.398Z"
   },
   {
    "duration": 25,
    "start_time": "2023-01-11T08:26:38.416Z"
   },
   {
    "duration": 7,
    "start_time": "2023-01-11T08:26:38.443Z"
   },
   {
    "duration": 19,
    "start_time": "2023-01-11T08:26:38.452Z"
   },
   {
    "duration": 21,
    "start_time": "2023-01-11T08:26:38.474Z"
   },
   {
    "duration": 292,
    "start_time": "2023-01-11T08:26:38.497Z"
   },
   {
    "duration": 311,
    "start_time": "2023-01-11T08:26:38.790Z"
   },
   {
    "duration": 217,
    "start_time": "2023-01-11T08:26:39.102Z"
   },
   {
    "duration": 403,
    "start_time": "2023-01-11T08:26:39.322Z"
   },
   {
    "duration": 251,
    "start_time": "2023-01-11T08:26:39.727Z"
   },
   {
    "duration": 349,
    "start_time": "2023-01-11T08:26:39.980Z"
   },
   {
    "duration": 124,
    "start_time": "2023-01-11T08:26:40.331Z"
   },
   {
    "duration": 5,
    "start_time": "2023-01-11T08:26:40.456Z"
   },
   {
    "duration": 140,
    "start_time": "2023-01-11T08:26:40.463Z"
   },
   {
    "duration": 6,
    "start_time": "2023-01-11T08:26:40.604Z"
   },
   {
    "duration": 300,
    "start_time": "2023-01-11T08:26:40.612Z"
   },
   {
    "duration": 150,
    "start_time": "2023-01-11T08:26:40.914Z"
   },
   {
    "duration": 32,
    "start_time": "2023-01-11T08:26:41.065Z"
   },
   {
    "duration": 10,
    "start_time": "2023-01-11T08:26:41.099Z"
   },
   {
    "duration": 9,
    "start_time": "2023-01-11T08:26:41.111Z"
   },
   {
    "duration": 12,
    "start_time": "2023-01-11T08:26:41.121Z"
   },
   {
    "duration": 24,
    "start_time": "2023-01-11T08:26:41.134Z"
   },
   {
    "duration": 44,
    "start_time": "2023-01-11T08:26:41.160Z"
   },
   {
    "duration": 6,
    "start_time": "2023-01-11T08:30:05.816Z"
   },
   {
    "duration": 208,
    "start_time": "2023-01-11T08:52:09.209Z"
   },
   {
    "duration": 289,
    "start_time": "2023-01-11T08:52:28.936Z"
   },
   {
    "duration": 237,
    "start_time": "2023-01-11T08:52:52.851Z"
   },
   {
    "duration": 292,
    "start_time": "2023-01-11T08:58:54.338Z"
   },
   {
    "duration": 245,
    "start_time": "2023-01-11T12:49:19.728Z"
   },
   {
    "duration": 55,
    "start_time": "2023-01-11T17:02:51.980Z"
   },
   {
    "duration": 1404,
    "start_time": "2023-01-11T17:02:57.927Z"
   },
   {
    "duration": 281,
    "start_time": "2023-01-11T17:02:59.334Z"
   },
   {
    "duration": 23,
    "start_time": "2023-01-11T17:02:59.617Z"
   },
   {
    "duration": 18,
    "start_time": "2023-01-11T17:02:59.642Z"
   },
   {
    "duration": 29,
    "start_time": "2023-01-11T17:02:59.664Z"
   },
   {
    "duration": 11,
    "start_time": "2023-01-11T17:02:59.713Z"
   },
   {
    "duration": 70,
    "start_time": "2023-01-11T17:02:59.727Z"
   },
   {
    "duration": 28,
    "start_time": "2023-01-11T17:02:59.799Z"
   },
   {
    "duration": 17,
    "start_time": "2023-01-11T17:02:59.829Z"
   },
   {
    "duration": 17,
    "start_time": "2023-01-11T17:02:59.848Z"
   },
   {
    "duration": 12,
    "start_time": "2023-01-11T17:02:59.867Z"
   },
   {
    "duration": 9,
    "start_time": "2023-01-11T17:02:59.881Z"
   },
   {
    "duration": 328,
    "start_time": "2023-01-11T17:02:59.914Z"
   },
   {
    "duration": 400,
    "start_time": "2023-01-11T17:03:00.246Z"
   },
   {
    "duration": 234,
    "start_time": "2023-01-11T17:03:00.648Z"
   },
   {
    "duration": 382,
    "start_time": "2023-01-11T17:03:00.885Z"
   },
   {
    "duration": 260,
    "start_time": "2023-01-11T17:03:01.269Z"
   },
   {
    "duration": 347,
    "start_time": "2023-01-11T17:03:01.531Z"
   },
   {
    "duration": 125,
    "start_time": "2023-01-11T17:03:01.880Z"
   },
   {
    "duration": 19,
    "start_time": "2023-01-11T17:03:02.007Z"
   },
   {
    "duration": 161,
    "start_time": "2023-01-11T17:03:02.028Z"
   },
   {
    "duration": 5,
    "start_time": "2023-01-11T17:03:02.191Z"
   },
   {
    "duration": 337,
    "start_time": "2023-01-11T17:03:02.197Z"
   },
   {
    "duration": 184,
    "start_time": "2023-01-11T17:03:02.536Z"
   },
   {
    "duration": 22,
    "start_time": "2023-01-11T17:03:02.727Z"
   },
   {
    "duration": 14,
    "start_time": "2023-01-11T17:03:02.751Z"
   },
   {
    "duration": 63,
    "start_time": "2023-01-11T17:03:02.767Z"
   },
   {
    "duration": 51,
    "start_time": "2023-01-11T17:03:02.831Z"
   },
   {
    "duration": 67,
    "start_time": "2023-01-11T17:03:02.883Z"
   },
   {
    "duration": 23,
    "start_time": "2023-01-11T17:03:02.952Z"
   },
   {
    "duration": 1503,
    "start_time": "2023-01-11T18:15:41.170Z"
   },
   {
    "duration": 217,
    "start_time": "2023-01-11T18:15:42.676Z"
   },
   {
    "duration": 24,
    "start_time": "2023-01-11T18:15:42.895Z"
   },
   {
    "duration": 24,
    "start_time": "2023-01-11T18:15:42.922Z"
   },
   {
    "duration": 25,
    "start_time": "2023-01-11T18:15:42.947Z"
   },
   {
    "duration": 4,
    "start_time": "2023-01-11T18:15:42.975Z"
   },
   {
    "duration": 90,
    "start_time": "2023-01-11T18:15:42.981Z"
   },
   {
    "duration": 10,
    "start_time": "2023-01-11T18:15:43.073Z"
   },
   {
    "duration": 14,
    "start_time": "2023-01-11T18:15:43.085Z"
   },
   {
    "duration": 51,
    "start_time": "2023-01-11T18:15:43.102Z"
   },
   {
    "duration": 12,
    "start_time": "2023-01-11T18:15:43.155Z"
   },
   {
    "duration": 10,
    "start_time": "2023-01-11T18:15:43.169Z"
   },
   {
    "duration": 321,
    "start_time": "2023-01-11T18:15:43.181Z"
   },
   {
    "duration": 317,
    "start_time": "2023-01-11T18:15:43.504Z"
   },
   {
    "duration": 248,
    "start_time": "2023-01-11T18:15:43.823Z"
   },
   {
    "duration": 342,
    "start_time": "2023-01-11T18:15:44.073Z"
   },
   {
    "duration": 257,
    "start_time": "2023-01-11T18:15:44.417Z"
   },
   {
    "duration": 347,
    "start_time": "2023-01-11T18:15:44.676Z"
   },
   {
    "duration": 186,
    "start_time": "2023-01-11T18:15:45.025Z"
   },
   {
    "duration": 8,
    "start_time": "2023-01-11T18:15:45.214Z"
   },
   {
    "duration": 190,
    "start_time": "2023-01-11T18:15:45.226Z"
   },
   {
    "duration": 7,
    "start_time": "2023-01-11T18:15:45.419Z"
   },
   {
    "duration": 347,
    "start_time": "2023-01-11T18:15:45.430Z"
   },
   {
    "duration": 166,
    "start_time": "2023-01-11T18:15:45.778Z"
   },
   {
    "duration": 26,
    "start_time": "2023-01-11T18:15:45.945Z"
   },
   {
    "duration": 12,
    "start_time": "2023-01-11T18:15:45.972Z"
   },
   {
    "duration": 30,
    "start_time": "2023-01-11T18:15:45.986Z"
   },
   {
    "duration": 17,
    "start_time": "2023-01-11T18:15:46.022Z"
   },
   {
    "duration": 35,
    "start_time": "2023-01-11T18:15:46.041Z"
   },
   {
    "duration": 18,
    "start_time": "2023-01-11T18:15:46.078Z"
   },
   {
    "duration": 1335,
    "start_time": "2023-01-11T18:20:20.323Z"
   },
   {
    "duration": 89,
    "start_time": "2023-01-11T18:20:21.661Z"
   },
   {
    "duration": 30,
    "start_time": "2023-01-11T18:20:21.752Z"
   },
   {
    "duration": 25,
    "start_time": "2023-01-11T18:20:21.785Z"
   },
   {
    "duration": 45,
    "start_time": "2023-01-11T18:20:21.812Z"
   },
   {
    "duration": 37,
    "start_time": "2023-01-11T18:20:21.858Z"
   },
   {
    "duration": 81,
    "start_time": "2023-01-11T18:20:21.897Z"
   },
   {
    "duration": 11,
    "start_time": "2023-01-11T18:20:21.979Z"
   },
   {
    "duration": 27,
    "start_time": "2023-01-11T18:20:21.991Z"
   },
   {
    "duration": 28,
    "start_time": "2023-01-11T18:20:22.021Z"
   },
   {
    "duration": 25,
    "start_time": "2023-01-11T18:20:22.051Z"
   },
   {
    "duration": 15,
    "start_time": "2023-01-11T18:20:22.078Z"
   },
   {
    "duration": 475,
    "start_time": "2023-01-11T18:20:22.095Z"
   },
   {
    "duration": 612,
    "start_time": "2023-01-11T18:20:22.576Z"
   },
   {
    "duration": 447,
    "start_time": "2023-01-11T18:20:23.190Z"
   },
   {
    "duration": 451,
    "start_time": "2023-01-11T18:20:23.639Z"
   },
   {
    "duration": 782,
    "start_time": "2023-01-11T18:20:24.091Z"
   },
   {
    "duration": 780,
    "start_time": "2023-01-11T18:20:24.875Z"
   },
   {
    "duration": 436,
    "start_time": "2023-01-11T18:20:25.656Z"
   },
   {
    "duration": 65,
    "start_time": "2023-01-11T18:20:26.095Z"
   },
   {
    "duration": 327,
    "start_time": "2023-01-11T18:20:26.163Z"
   },
   {
    "duration": 63,
    "start_time": "2023-01-11T18:20:26.493Z"
   },
   {
    "duration": 737,
    "start_time": "2023-01-11T18:20:26.558Z"
   },
   {
    "duration": 398,
    "start_time": "2023-01-11T18:20:27.302Z"
   },
   {
    "duration": 33,
    "start_time": "2023-01-11T18:20:27.750Z"
   },
   {
    "duration": 66,
    "start_time": "2023-01-11T18:20:27.786Z"
   },
   {
    "duration": 14,
    "start_time": "2023-01-11T18:20:27.855Z"
   },
   {
    "duration": 17,
    "start_time": "2023-01-11T18:20:27.873Z"
   },
   {
    "duration": 75,
    "start_time": "2023-01-11T18:20:27.893Z"
   },
   {
    "duration": 26,
    "start_time": "2023-01-11T18:20:27.972Z"
   },
   {
    "duration": 47,
    "start_time": "2023-01-11T19:04:14.425Z"
   },
   {
    "duration": 1433,
    "start_time": "2023-01-11T19:04:24.394Z"
   },
   {
    "duration": 239,
    "start_time": "2023-01-11T19:04:25.834Z"
   },
   {
    "duration": 26,
    "start_time": "2023-01-11T19:04:26.597Z"
   },
   {
    "duration": 19,
    "start_time": "2023-01-11T19:04:28.077Z"
   },
   {
    "duration": 17,
    "start_time": "2023-01-11T19:04:29.361Z"
   },
   {
    "duration": 4,
    "start_time": "2023-01-11T19:04:30.240Z"
   },
   {
    "duration": 67,
    "start_time": "2023-01-11T19:04:31.210Z"
   },
   {
    "duration": 9,
    "start_time": "2023-01-11T19:04:32.414Z"
   },
   {
    "duration": 14,
    "start_time": "2023-01-11T19:04:33.331Z"
   },
   {
    "duration": 14,
    "start_time": "2023-01-11T19:04:35.274Z"
   },
   {
    "duration": 12,
    "start_time": "2023-01-11T19:04:36.889Z"
   },
   {
    "duration": 6,
    "start_time": "2023-01-11T19:04:39.332Z"
   },
   {
    "duration": 301,
    "start_time": "2023-01-11T19:04:39.850Z"
   },
   {
    "duration": 290,
    "start_time": "2023-01-11T19:04:41.925Z"
   },
   {
    "duration": 229,
    "start_time": "2023-01-11T19:07:32.533Z"
   },
   {
    "duration": 335,
    "start_time": "2023-01-11T19:07:52.817Z"
   },
   {
    "duration": 221,
    "start_time": "2023-01-11T19:08:17.722Z"
   },
   {
    "duration": 332,
    "start_time": "2023-01-11T19:20:49.055Z"
   },
   {
    "duration": 266,
    "start_time": "2023-01-11T19:21:00.331Z"
   },
   {
    "duration": 377,
    "start_time": "2023-01-11T19:21:11.739Z"
   },
   {
    "duration": 234,
    "start_time": "2023-01-11T19:22:19.524Z"
   },
   {
    "duration": 222,
    "start_time": "2023-01-11T19:23:55.756Z"
   },
   {
    "duration": 345,
    "start_time": "2023-01-11T19:24:48.157Z"
   },
   {
    "duration": 336,
    "start_time": "2023-01-11T19:24:55.881Z"
   },
   {
    "duration": 232,
    "start_time": "2023-01-11T19:26:16.481Z"
   },
   {
    "duration": 354,
    "start_time": "2023-01-11T19:26:44.926Z"
   },
   {
    "duration": 361,
    "start_time": "2023-01-11T19:28:16.338Z"
   },
   {
    "duration": 112,
    "start_time": "2023-01-11T19:28:42.946Z"
   },
   {
    "duration": 128,
    "start_time": "2023-01-11T19:31:10.651Z"
   },
   {
    "duration": 121,
    "start_time": "2023-01-11T19:35:03.257Z"
   },
   {
    "duration": 265,
    "start_time": "2023-01-11T19:35:37.365Z"
   },
   {
    "duration": 130,
    "start_time": "2023-01-11T19:36:16.118Z"
   },
   {
    "duration": 137,
    "start_time": "2023-01-11T19:42:17.408Z"
   },
   {
    "duration": 119,
    "start_time": "2023-01-11T19:42:39.240Z"
   },
   {
    "duration": 128,
    "start_time": "2023-01-11T19:44:50.080Z"
   },
   {
    "duration": 161,
    "start_time": "2023-01-11T19:45:21.552Z"
   },
   {
    "duration": 138,
    "start_time": "2023-01-11T19:46:09.184Z"
   },
   {
    "duration": 136,
    "start_time": "2023-01-11T19:46:36.794Z"
   },
   {
    "duration": 180,
    "start_time": "2023-01-11T19:47:55.648Z"
   },
   {
    "duration": 122,
    "start_time": "2023-01-11T19:48:10.900Z"
   },
   {
    "duration": 124,
    "start_time": "2023-01-11T19:48:20.766Z"
   },
   {
    "duration": 126,
    "start_time": "2023-01-11T19:48:39.687Z"
   },
   {
    "duration": 187,
    "start_time": "2023-01-11T19:48:56.570Z"
   },
   {
    "duration": 261,
    "start_time": "2023-01-11T19:49:42.641Z"
   },
   {
    "duration": 131,
    "start_time": "2023-01-11T19:49:56.883Z"
   },
   {
    "duration": 134,
    "start_time": "2023-01-11T19:50:22.252Z"
   },
   {
    "duration": 145,
    "start_time": "2023-01-11T19:50:35.398Z"
   },
   {
    "duration": 150,
    "start_time": "2023-01-11T19:51:01.808Z"
   },
   {
    "duration": 163,
    "start_time": "2023-01-11T19:51:19.118Z"
   },
   {
    "duration": 133,
    "start_time": "2023-01-11T19:51:36.146Z"
   },
   {
    "duration": 155,
    "start_time": "2023-01-11T19:51:42.238Z"
   },
   {
    "duration": 140,
    "start_time": "2023-01-11T19:51:50.308Z"
   },
   {
    "duration": 145,
    "start_time": "2023-01-11T19:52:20.135Z"
   },
   {
    "duration": 145,
    "start_time": "2023-01-11T19:52:26.519Z"
   },
   {
    "duration": 155,
    "start_time": "2023-01-11T19:52:31.542Z"
   },
   {
    "duration": 152,
    "start_time": "2023-01-11T19:52:37.414Z"
   },
   {
    "duration": 282,
    "start_time": "2023-01-11T19:52:44.018Z"
   },
   {
    "duration": 172,
    "start_time": "2023-01-11T19:52:48.042Z"
   },
   {
    "duration": 141,
    "start_time": "2023-01-11T19:52:52.065Z"
   },
   {
    "duration": 157,
    "start_time": "2023-01-11T19:53:02.943Z"
   },
   {
    "duration": 143,
    "start_time": "2023-01-11T19:53:07.247Z"
   },
   {
    "duration": 156,
    "start_time": "2023-01-11T19:53:15.995Z"
   },
   {
    "duration": 149,
    "start_time": "2023-01-11T19:53:19.146Z"
   },
   {
    "duration": 47,
    "start_time": "2023-01-12T08:06:42.657Z"
   },
   {
    "duration": 1381,
    "start_time": "2023-01-12T08:06:49.664Z"
   },
   {
    "duration": 216,
    "start_time": "2023-01-12T08:06:51.046Z"
   },
   {
    "duration": 20,
    "start_time": "2023-01-12T08:06:51.264Z"
   },
   {
    "duration": 20,
    "start_time": "2023-01-12T08:06:52.331Z"
   },
   {
    "duration": 19,
    "start_time": "2023-01-12T08:06:53.874Z"
   },
   {
    "duration": 4,
    "start_time": "2023-01-12T08:06:54.412Z"
   },
   {
    "duration": 72,
    "start_time": "2023-01-12T08:06:54.894Z"
   },
   {
    "duration": 10,
    "start_time": "2023-01-12T08:06:55.915Z"
   },
   {
    "duration": 13,
    "start_time": "2023-01-12T08:06:56.714Z"
   },
   {
    "duration": 7,
    "start_time": "2023-01-12T08:07:00.752Z"
   },
   {
    "duration": 5,
    "start_time": "2023-01-12T08:07:09.736Z"
   },
   {
    "duration": 7,
    "start_time": "2023-01-12T08:07:19.418Z"
   },
   {
    "duration": 7,
    "start_time": "2023-01-12T08:07:25.808Z"
   },
   {
    "duration": 4,
    "start_time": "2023-01-12T08:07:35.773Z"
   },
   {
    "duration": 69,
    "start_time": "2023-01-12T08:07:39.036Z"
   },
   {
    "duration": 5,
    "start_time": "2023-01-12T08:09:02.594Z"
   },
   {
    "duration": 6,
    "start_time": "2023-01-12T08:10:00.774Z"
   },
   {
    "duration": 4,
    "start_time": "2023-01-12T08:10:58.453Z"
   },
   {
    "duration": 4,
    "start_time": "2023-01-12T08:11:16.517Z"
   },
   {
    "duration": 4,
    "start_time": "2023-01-12T08:11:45.734Z"
   },
   {
    "duration": 5,
    "start_time": "2023-01-12T08:11:52.137Z"
   },
   {
    "duration": 6,
    "start_time": "2023-01-12T08:29:01.534Z"
   },
   {
    "duration": 10,
    "start_time": "2023-01-12T08:29:38.565Z"
   },
   {
    "duration": 16,
    "start_time": "2023-01-12T08:29:49.991Z"
   },
   {
    "duration": 7,
    "start_time": "2023-01-12T08:30:01.179Z"
   },
   {
    "duration": 7,
    "start_time": "2023-01-12T08:30:09.387Z"
   },
   {
    "duration": 10,
    "start_time": "2023-01-12T08:30:25.008Z"
   },
   {
    "duration": 6,
    "start_time": "2023-01-12T08:30:36.745Z"
   },
   {
    "duration": 5,
    "start_time": "2023-01-12T08:32:54.215Z"
   },
   {
    "duration": 100,
    "start_time": "2023-01-12T08:34:11.166Z"
   },
   {
    "duration": 9,
    "start_time": "2023-01-12T08:34:17.121Z"
   },
   {
    "duration": 5,
    "start_time": "2023-01-12T08:34:24.027Z"
   },
   {
    "duration": 83,
    "start_time": "2023-01-12T08:34:30.355Z"
   },
   {
    "duration": 79,
    "start_time": "2023-01-12T08:34:46.972Z"
   },
   {
    "duration": 4,
    "start_time": "2023-01-12T08:34:51.897Z"
   },
   {
    "duration": 88,
    "start_time": "2023-01-12T08:35:31.407Z"
   },
   {
    "duration": 8,
    "start_time": "2023-01-12T08:35:37.598Z"
   },
   {
    "duration": 10,
    "start_time": "2023-01-12T08:36:06.264Z"
   },
   {
    "duration": 7,
    "start_time": "2023-01-12T08:36:21.399Z"
   },
   {
    "duration": 6,
    "start_time": "2023-01-12T08:36:22.379Z"
   },
   {
    "duration": 6,
    "start_time": "2023-01-12T08:36:23.504Z"
   },
   {
    "duration": 6,
    "start_time": "2023-01-12T08:36:24.071Z"
   },
   {
    "duration": 5,
    "start_time": "2023-01-12T08:38:10.792Z"
   },
   {
    "duration": 7,
    "start_time": "2023-01-12T08:39:59.084Z"
   },
   {
    "duration": 17,
    "start_time": "2023-01-12T08:43:49.686Z"
   },
   {
    "duration": 17,
    "start_time": "2023-01-12T08:44:10.147Z"
   },
   {
    "duration": 305,
    "start_time": "2023-01-12T08:44:27.981Z"
   },
   {
    "duration": 323,
    "start_time": "2023-01-12T08:44:45.022Z"
   },
   {
    "duration": 324,
    "start_time": "2023-01-12T08:45:11.814Z"
   },
   {
    "duration": 13,
    "start_time": "2023-01-12T08:47:25.017Z"
   },
   {
    "duration": 14,
    "start_time": "2023-01-12T08:47:32.567Z"
   },
   {
    "duration": 18,
    "start_time": "2023-01-12T08:47:38.421Z"
   },
   {
    "duration": 1138,
    "start_time": "2023-01-12T08:47:45.547Z"
   },
   {
    "duration": 11,
    "start_time": "2023-01-12T08:47:59.857Z"
   },
   {
    "duration": 8,
    "start_time": "2023-01-12T08:50:20.232Z"
   },
   {
    "duration": 68,
    "start_time": "2023-01-12T08:51:05.078Z"
   },
   {
    "duration": 72,
    "start_time": "2023-01-12T08:51:20.960Z"
   },
   {
    "duration": 4,
    "start_time": "2023-01-12T08:52:01.388Z"
   },
   {
    "duration": 69,
    "start_time": "2023-01-12T08:52:31.545Z"
   },
   {
    "duration": 4,
    "start_time": "2023-01-12T08:52:41.549Z"
   },
   {
    "duration": 3,
    "start_time": "2023-01-12T08:52:56.536Z"
   },
   {
    "duration": 4,
    "start_time": "2023-01-12T08:53:01.574Z"
   },
   {
    "duration": 17,
    "start_time": "2023-01-12T08:54:54.063Z"
   },
   {
    "duration": 10,
    "start_time": "2023-01-12T08:55:36.682Z"
   },
   {
    "duration": 9,
    "start_time": "2023-01-12T08:55:39.893Z"
   },
   {
    "duration": 9,
    "start_time": "2023-01-12T08:55:55.382Z"
   },
   {
    "duration": 10,
    "start_time": "2023-01-12T08:56:41.655Z"
   },
   {
    "duration": 12,
    "start_time": "2023-01-12T08:56:55.666Z"
   },
   {
    "duration": 11,
    "start_time": "2023-01-12T08:57:13.327Z"
   },
   {
    "duration": 12,
    "start_time": "2023-01-12T08:57:37.112Z"
   },
   {
    "duration": 8,
    "start_time": "2023-01-12T08:58:12.732Z"
   },
   {
    "duration": 7,
    "start_time": "2023-01-12T08:58:22.001Z"
   },
   {
    "duration": 309,
    "start_time": "2023-01-12T08:58:22.969Z"
   },
   {
    "duration": 5,
    "start_time": "2023-01-12T08:58:25.896Z"
   },
   {
    "duration": 6,
    "start_time": "2023-01-12T08:58:55.430Z"
   },
   {
    "duration": 4,
    "start_time": "2023-01-12T08:59:05.510Z"
   },
   {
    "duration": 75,
    "start_time": "2023-01-12T08:59:56.957Z"
   },
   {
    "duration": 3,
    "start_time": "2023-01-12T09:00:18.332Z"
   },
   {
    "duration": 4,
    "start_time": "2023-01-12T09:00:58.209Z"
   },
   {
    "duration": 75,
    "start_time": "2023-01-12T09:03:35.594Z"
   },
   {
    "duration": 9,
    "start_time": "2023-01-12T09:04:53.981Z"
   },
   {
    "duration": 148,
    "start_time": "2023-01-12T09:04:57.727Z"
   },
   {
    "duration": 226,
    "start_time": "2023-01-12T09:05:03.316Z"
   },
   {
    "duration": 160,
    "start_time": "2023-01-12T09:05:06.349Z"
   },
   {
    "duration": 26,
    "start_time": "2023-01-12T09:05:07.618Z"
   },
   {
    "duration": 4,
    "start_time": "2023-01-12T09:06:34.284Z"
   },
   {
    "duration": 4,
    "start_time": "2023-01-12T09:06:38.345Z"
   },
   {
    "duration": 25,
    "start_time": "2023-01-12T09:06:51.789Z"
   },
   {
    "duration": 70,
    "start_time": "2023-01-12T09:07:38.258Z"
   },
   {
    "duration": 68,
    "start_time": "2023-01-12T09:08:14.403Z"
   },
   {
    "duration": 10,
    "start_time": "2023-01-12T09:09:55.363Z"
   },
   {
    "duration": 94,
    "start_time": "2023-01-12T09:11:59.799Z"
   },
   {
    "duration": 8,
    "start_time": "2023-01-12T09:12:04.470Z"
   },
   {
    "duration": 127,
    "start_time": "2023-01-12T09:12:10.364Z"
   },
   {
    "duration": 5,
    "start_time": "2023-01-12T09:12:13.623Z"
   },
   {
    "duration": 5,
    "start_time": "2023-01-12T09:12:14.562Z"
   },
   {
    "duration": 23,
    "start_time": "2023-01-12T09:12:32.250Z"
   },
   {
    "duration": 9,
    "start_time": "2023-01-12T09:12:57.720Z"
   },
   {
    "duration": 121,
    "start_time": "2023-01-12T09:14:19.528Z"
   },
   {
    "duration": 77,
    "start_time": "2023-01-12T09:15:19.947Z"
   },
   {
    "duration": 81,
    "start_time": "2023-01-12T09:15:24.069Z"
   },
   {
    "duration": 77,
    "start_time": "2023-01-12T09:15:38.786Z"
   },
   {
    "duration": 95,
    "start_time": "2023-01-12T11:22:18.037Z"
   },
   {
    "duration": 53,
    "start_time": "2023-01-19T09:15:19.043Z"
   },
   {
    "duration": 1170,
    "start_time": "2023-01-19T09:15:28.609Z"
   },
   {
    "duration": 174,
    "start_time": "2023-01-19T09:15:30.591Z"
   },
   {
    "duration": 23,
    "start_time": "2023-01-19T09:15:31.407Z"
   },
   {
    "duration": 18,
    "start_time": "2023-01-19T09:15:32.512Z"
   },
   {
    "duration": 18,
    "start_time": "2023-01-19T09:15:33.695Z"
   },
   {
    "duration": 3,
    "start_time": "2023-01-19T09:15:34.470Z"
   },
   {
    "duration": 66,
    "start_time": "2023-01-19T09:15:35.213Z"
   },
   {
    "duration": 9,
    "start_time": "2023-01-19T09:15:36.085Z"
   },
   {
    "duration": 14,
    "start_time": "2023-01-19T09:15:36.973Z"
   },
   {
    "duration": 5,
    "start_time": "2023-01-19T09:15:38.821Z"
   },
   {
    "duration": 4,
    "start_time": "2023-01-19T09:15:39.315Z"
   },
   {
    "duration": 4,
    "start_time": "2023-01-19T09:15:39.550Z"
   },
   {
    "duration": 6,
    "start_time": "2023-01-19T09:15:41.111Z"
   },
   {
    "duration": 11,
    "start_time": "2023-01-19T09:15:41.689Z"
   },
   {
    "duration": 13,
    "start_time": "2023-01-19T09:15:42.802Z"
   },
   {
    "duration": 10,
    "start_time": "2023-01-19T09:16:05.829Z"
   },
   {
    "duration": 12,
    "start_time": "2023-01-19T09:16:13.573Z"
   },
   {
    "duration": 1241,
    "start_time": "2023-01-19T09:16:50.151Z"
   },
   {
    "duration": 15,
    "start_time": "2023-01-19T09:17:12.491Z"
   },
   {
    "duration": 1093,
    "start_time": "2023-03-20T20:35:41.054Z"
   },
   {
    "duration": 221,
    "start_time": "2023-03-20T20:35:43.958Z"
   },
   {
    "duration": 21,
    "start_time": "2023-03-20T20:35:45.067Z"
   },
   {
    "duration": 18,
    "start_time": "2023-03-20T20:35:49.415Z"
   },
   {
    "duration": 17,
    "start_time": "2023-03-20T20:35:51.828Z"
   },
   {
    "duration": 3,
    "start_time": "2023-03-20T20:35:55.129Z"
   },
   {
    "duration": 63,
    "start_time": "2023-03-20T20:35:56.558Z"
   },
   {
    "duration": 11,
    "start_time": "2023-03-20T20:35:57.869Z"
   },
   {
    "duration": 13,
    "start_time": "2023-03-20T20:35:59.229Z"
   },
   {
    "duration": 11,
    "start_time": "2023-03-20T20:36:11.724Z"
   }
  ],
  "kernelspec": {
   "display_name": "Python 3 (ipykernel)",
   "language": "python",
   "name": "python3"
  },
  "language_info": {
   "codemirror_mode": {
    "name": "ipython",
    "version": 3
   },
   "file_extension": ".py",
   "mimetype": "text/x-python",
   "name": "python",
   "nbconvert_exporter": "python",
   "pygments_lexer": "ipython3",
   "version": "3.9.13"
  },
  "toc": {
   "base_numbering": 1,
   "nav_menu": {},
   "number_sections": true,
   "sideBar": true,
   "skip_h1_title": true,
   "title_cell": "Table of Contents",
   "title_sidebar": "Contents",
   "toc_cell": false,
   "toc_position": {
    "height": "calc(100% - 180px)",
    "left": "10px",
    "top": "150px",
    "width": "435.95px"
   },
   "toc_section_display": true,
   "toc_window_display": true
  }
 },
 "nbformat": 4,
 "nbformat_minor": 2
}
